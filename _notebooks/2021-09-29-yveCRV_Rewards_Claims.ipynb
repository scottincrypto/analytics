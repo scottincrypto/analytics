{
  "nbformat": 4,
  "nbformat_minor": 0,
  "metadata": {
    "colab": {
      "name": "yveCRV Rewards Claims.ipynb",
      "provenance": [],
      "collapsed_sections": []
    },
    "kernelspec": {
      "name": "python3",
      "display_name": "Python 3"
    },
    "language_info": {
      "name": "python"
    }
  },
  "cells": [
    {
      "cell_type": "markdown",
      "metadata": {
        "id": "y85AgC_Ej5RB"
      },
      "source": [
        "# yveCRV Reward Claims\n",
        "> \"How do users handle yveCRV reward claims?\"\n",
        "\n",
        "- toc:true\n",
        "- branch: master\n",
        "- badges: true\n",
        "- comments: false\n",
        "- author: Scott Simpson\n",
        "- categories: [Curve, Yearn]\n",
        "- hide: false  \n"
      ]
    },
    {
      "cell_type": "code",
      "metadata": {
        "colab": {
          "base_uri": "https://localhost:8080/",
          "height": 108
        },
        "id": "i51GEHPBjvF4",
        "outputId": "85e8aa24-40aa-4315-b5f1-f9a99d5f4dfa"
      },
      "source": [
        "#hide\n",
        "#Imports & settings\n",
        "!pip install plotly --upgrade\n",
        "import pandas as pd\n",
        "import plotly.express as px\n",
        "import plotly.graph_objects as go\n",
        "from plotly.subplots import make_subplots\n",
        "%matplotlib inline\n",
        "#%load_ext google.colab.data_table\n",
        "%load_ext rpy2.ipython\n",
        "%R options(tidyverse.quiet = TRUE)\n",
        "%R options(lubridate.quiet = TRUE)\n",
        "%R options(jsonlite.quiet = TRUE)\n",
        "%R suppressMessages(library(tidyverse))\n",
        "%R suppressMessages(library(lubridate))\n",
        "%R suppressMessages(library(jsonlite))\n",
        "%R suppressMessages(options(dplyr.summarise.inform = FALSE))\n"
      ],
      "execution_count": 1,
      "outputs": [
        {
          "output_type": "stream",
          "name": "stdout",
          "text": [
            "Requirement already satisfied: plotly in /usr/local/lib/python3.7/dist-packages (5.3.1)\n",
            "Requirement already satisfied: tenacity>=6.2.0 in /usr/local/lib/python3.7/dist-packages (from plotly) (8.0.1)\n",
            "Requirement already satisfied: six in /usr/local/lib/python3.7/dist-packages (from plotly) (1.15.0)\n"
          ]
        },
        {
          "output_type": "execute_result",
          "data": {
            "text/html": [
              "\n",
              "        <span>ListVector with 1 elements.</span>\n",
              "        <table>\n",
              "        <tbody>\n",
              "        \n",
              "          <tr>\n",
              "            <th>\n",
              "            dplyr.summarise.inform\n",
              "            </th>\n",
              "            <td>\n",
              "            <rpy2.rinterface_lib.sexp.NULLType object at 0x7f4a5a592af0> [RTYPES.NILSXP]\n",
              "            </td>\n",
              "          </tr>\n",
              "        \n",
              "        </tbody>\n",
              "        </table>\n",
              "        "
            ],
            "text/plain": [
              "<rpy2.robjects.vectors.ListVector object at 0x7f4a6679baf0> [RTYPES.VECSXP]\n",
              "R classes: ('list',)\n",
              "[NULLType]\n",
              "  dplyr.summarise.inform: <class 'rpy2.rinterface_lib.sexp.NULLType'>\n",
              "  <rpy2.rinterface_lib.sexp.NULLType object at 0x7f4a5a592af0> [RTYPES.NILSXP]"
            ]
          },
          "metadata": {},
          "execution_count": 1
        }
      ]
    },
    {
      "cell_type": "code",
      "metadata": {
        "id": "sXKENKnRkJzg"
      },
      "source": [
        "#hide\n",
        "%%R\n",
        "#Grab base query from Flipside\n",
        "df_yveCRV = fromJSON('https://api.flipsidecrypto.com/api/v2/queries/8dc06609-8d0e-4f5d-b754-e61082b336fa/data/latest', simplifyDataFrame = TRUE)\n",
        "df_claims = fromJSON('https://api.flipsidecrypto.com/api/v2/queries/180e0b1f-5d73-4beb-b4cb-8399dba03b47/data/latest', simplifyDataFrame = TRUE)\n",
        "\n",
        "#fix the column names\n",
        "names(df_yveCRV)<-tolower(names(df_yveCRV))\n",
        "names(df_claims)<-tolower(names(df_claims))\n",
        "\n",
        "#Change the date to date format\n",
        "df_yveCRV$date <- as.Date(parse_datetime(df_yveCRV$date))\n",
        "df_claims$date <- as.Date(parse_datetime(df_claims$date))\n",
        "df_claims$block_timestamp <- parse_datetime(df_claims$block_timestamp)\n",
        "\n",
        "#create a date sequence from min date to max date\n",
        "full_date_range <- tibble(date = seq(min(df_yveCRV$date), max(df_yveCRV$date), by = \"days\"))\n",
        "\n",
        "#join in the df_yveCRV frame\n",
        "df_yveCRV <- full_date_range %>%\n",
        "  left_join(df_yveCRV, by=c('date'))\n",
        "\n",
        "#fill the na prices\n",
        "df_yveCRV <- df_yveCRV %>%\n",
        "    replace_na(list(threecrv_deposit = 0, yvecrv_minted = 0))\n",
        "\n",
        "#df_yveCRV tokens on issue\n",
        "df_yveCRV <- df_yveCRV %>%\n",
        "  arrange(date) %>%\n",
        "  mutate(yveCRV_on_issue = cumsum(yvecrv_minted))\n",
        "\n",
        "#Grab yveCRV prices from coingecko\n",
        "cg_api = paste('https://api.coingecko.com/api/v3/coins/vecrv-dao-yvault/market_chart/range?vs_currency=usd&from=',\n",
        "               as.numeric(as.POSIXct(min(df_yveCRV$date))),\n",
        "               '&to=',\n",
        "               as.numeric(as.POSIXct(max(df_yveCRV$date))),\n",
        "               sep = \"\")\n",
        "\n",
        "\n",
        "yveCRV_prices = fromJSON(cg_api, simplifyDataFrame = TRUE, flatten = TRUE)\n",
        "\n",
        "yveCRV_prices <- as_tibble(yveCRV_prices$prices) %>%\n",
        "  mutate(date = as.Date(as.POSIXct(V1/1000, origin=\"1970-01-01\")),\n",
        "         yveCRV_price = V2) %>%\n",
        "  select(date, yveCRV_price)\n",
        "\n",
        "#join back into the main df\n",
        "df_yveCRV <- df_yveCRV %>%\n",
        "  left_join(yveCRV_prices, by = c('date'))\n",
        "\n",
        "#Grab CRV prices from coingecko\n",
        "cg_api = paste('https://api.coingecko.com/api/v3/coins/curve-dao-token/market_chart/range?vs_currency=usd&from=',\n",
        "               as.numeric(as.POSIXct(min(df_yveCRV$date))),\n",
        "               '&to=',\n",
        "               as.numeric(as.POSIXct(max(df_yveCRV$date))),\n",
        "               sep = \"\")\n",
        "\n",
        "\n",
        "CRV_prices = fromJSON(cg_api, simplifyDataFrame = TRUE, flatten = TRUE)\n",
        "\n",
        "CRV_prices <- as_tibble(CRV_prices$prices) %>%\n",
        "  mutate(date = as.Date(as.POSIXct(V1/1000, origin=\"1970-01-01\")),\n",
        "         CRV_price = V2) %>%\n",
        "  select(date, CRV_price)\n",
        "\n",
        "\n",
        "#define ROI as the annualised 7 day vault return - assume 52 weeks/year\n",
        "#ROI is 3CRV received over tokens on issue\n",
        "df_yveCRV <- df_yveCRV %>%  \n",
        "#  drop_na(price) %>%\n",
        "  mutate(yveCRV_7day_ROI = if_else(threecrv_deposit == 0, NA_real_, threecrv_deposit / (yveCRV_on_issue*yveCRV_price)) * 52 * 100)  %>%\n",
        "  fill(yveCRV_7day_ROI, .direction = \"down\")\n",
        "\n",
        "rm(list = c('full_date_range','yveCRV_prices', 'cg_api', 'CRV_prices'))\n",
        "\n",
        "\n",
        "#Create a week field\n",
        "df_claims <- df_claims %>%\n",
        "  mutate(week = floor_date(date, unit='week'))\n",
        "df_yveCRV <- df_yveCRV %>%\n",
        "  mutate(week = floor_date(date, unit='week'))\n",
        "\n",
        "\n",
        "#For claims, create a % of claim gas fee field\n",
        "df_claims <- df_claims %>%\n",
        "  mutate(gas_percentage_of_claim = fee_usd / amount * 100,\n",
        "         net_return = amount - fee_usd)\n",
        "\n",
        "#Create roll-up buckets\n",
        "df_claims <- df_claims %>%\n",
        "  mutate(claim_lost_to_gas = case_when (\n",
        "    net_return < 0 ~ \"Negative Return\",\n",
        "    net_return >0 & gas_percentage_of_claim > 50 ~ \"50-100% Loss\",\n",
        "    net_return >0 & gas_percentage_of_claim > 20 ~ \"20-50% Loss\",\n",
        "    net_return >0 & gas_percentage_of_claim > 10 ~ \"10-20% Loss\",\n",
        "    net_return >0 & gas_percentage_of_claim > 5 ~ \"5-10% Loss\",\n",
        "    net_return >0 & gas_percentage_of_claim > 1 ~ \"1-5% Loss\",\n",
        "    TRUE ~ \"< 1% Loss\",\n",
        "  )) \n",
        "\n",
        "#fix bucket ordering\n",
        "df_claims$claim_lost_to_gas = parse_factor(df_claims$claim_lost_to_gas,\n",
        "                                           levels = c(\"Negative Return\", \"50-100% Loss\", \n",
        "                                                      \"20-50% Loss\", \"10-20% Loss\",\n",
        "                                                      \"5-10% Loss\", \"1-5% Loss\",\n",
        "                                                      \"< 1% Loss\"),\n",
        "                                           ordered = TRUE)\n",
        "#roll up & summarise\n",
        "roll_up_table <- df_claims %>%\n",
        "  group_by(claim_lost_to_gas) %>%\n",
        "  summarise(no_of_claims = n(),\n",
        "            gas_spent_usd = round(sum(fee_usd, na.rm = TRUE),0),\n",
        "            gas_spent_eth = round(sum(tx_fee),2),\n",
        "            amount_claimed = round(sum(amount),0)\n",
        "  ) %>%\n",
        "  arrange(claim_lost_to_gas) %>%\n",
        "  mutate(cumu_claims = cumsum(no_of_claims),\n",
        "         cumu_claims_percent = cumu_claims / sum(no_of_claims) * 100)\n",
        "\n",
        "#create the total row\n",
        "total_row <- roll_up_table %>%\n",
        "  summarise(claim_lost_to_gas = 'Total',\n",
        "            no_of_claims = sum(no_of_claims),\n",
        "            gas_spent_usd = sum(gas_spent_usd),\n",
        "            gas_spent_eth = sum(gas_spent_eth),\n",
        "            amount_claimed = sum(amount_claimed),\n",
        "            cumu_claims = sum(no_of_claims),\n",
        "            cumu_claims_percent = 100\n",
        "            )\n",
        "  \n",
        "#summarise by week\n",
        "weekly_claims <- df_claims %>%\n",
        "  group_by(week) %>%\n",
        "  summarise(no_of_claims = n(),\n",
        "            gas_spent_usd = round(sum(fee_usd, na.rm = TRUE),0),\n",
        "            gas_spent_eth = round(sum(tx_fee),2),\n",
        "            amount_claimed = round(sum(amount),0)\n",
        "  ) %>%\n",
        "  left_join(df_yveCRV %>% group_by(week) %>% summarise(avail_to_claim = sum(threecrv_deposit, na.rm = TRUE)), by = \"week\") %>%\n",
        "  mutate(percent_claimed = amount_claimed / avail_to_claim * 100,\n",
        "         cumu_claimed = cumsum(amount_claimed),\n",
        "         cumu_avail = cumsum(avail_to_claim),\n",
        "         cumu_percent = cumu_claimed / cumu_avail * 100\n",
        "         )\n",
        "  \n",
        "#fixup week field\n",
        "weekly_claims$week <- as_datetime(weekly_claims$week)\n",
        "\n",
        "#set up claims % table\n",
        "claims_percent_table <- weekly_claims %>% \n",
        "  mutate(cumu_percent_unclaimed = 100 - cumu_percent) %>% \n",
        "  select(week, cumu_percent, cumu_percent_unclaimed) %>%\n",
        "  rename('Percent Claimed' = cumu_percent,\n",
        "         'Percent Unclaimed' = cumu_percent_unclaimed) %>%\n",
        "  pivot_longer(!week, names_to=\"measure\", values_to = \"percentage\")"
      ],
      "execution_count": 12,
      "outputs": []
    },
    {
      "cell_type": "markdown",
      "metadata": {
        "id": "PLmnB8KzA_U1"
      },
      "source": [
        "# Yearn yVaults and the yveCRV Vault\n",
        "\n",
        "## Yearn yVaults\n",
        "Yearn is a DeFi protocol which automates yield farming.  Users have tokens which they want to hold - Yearn puts those tokens to work by finding the best yield farming opportunities across DeFi.  It does this in a gas efficient way for the user, so even small deposits can get decent returns over time.\n",
        "\n",
        "Yearn users deposit their tokens into yVaults, and receive a token in return which is proportional to their share of the vault capital.  A yVault is a smart contract with one ore more Strategies sitting behind it.  The Strategies are the yield-farming recipes which are created by clever humans (Strategists) and monitored & managed by bots (Keepers).  The yVault contains logic which automatically allocates the vault deposits to whichever combination of Strategies gives the best return for the users.  The rewards from the yield farming accrue into the vault, so the value of the vault token is always increasing.  When a user withdraws from the yVault, they get more tokens than they deposited.  This additional amount is the yield the vault has earned on their behalf.\n",
        "\n",
        "Each yVault is structured around a particular underlying token - there are vaults for Eth, USDC, WBTC and many others.  Users can deposit in the yVault native token, or they can deposit using any other token & take advantage of Zaps.  Zaps are smart contracts which take an input token and swap it for the underlying token in a gas efficient manner.  The swap may occur via a number of dexs or dex aggregators, but this is abstracted away for the user.  There is a similar feature when withdrawing - the user can withdraw the underlying token from a yVault, or choose to receive their funds in ETH, WBTC, DAI, USDC or USDT.  It's important to know that whatever token the user deposits  or withdraws, they maintain price exposure to the *underlying token* of the vault whilst deposited. \n",
        "\n",
        "\n",
        "## yveCRV yVault\n",
        "Now the veCRV-DAO yVault (also known as the yveCRV Vault) is a little different to the others.  It starts with the CRV token, the governance & reward token from [Curve](https://curve.fi).  Curve is a dex which specialises in stableswaps - swaps between tokens which have approximately the same value.  Examples are ETH/stETH or swaps between dollar pegged stablecoins.  Curve has optimised their swap code to make these swaps efficient from both a liquidity impact and fee perspected - see this [post](https://scottincrypto.github.io/analytics/curve/2021/09/19/Curve_Stableswaps.html) for a further exploration of Curve & stablecoin swaps.\n",
        "\n",
        "The CRV token has voting rights in the Curve DAO which makes decisions on the Curve protocol - things like fees, LP rewards, swap parameters and pools launched.  In some Curve pools, liquidity providers receive CRV tokens to incentivise liquidity in the pools.  CRV tokens are also available on the open market.  To encourage users to stay as CRV hodlers, there is a facility to lock CRV tokens into the CRV DAO for a fixed period of up to 4 years.  Users receive veCRV tokens (voting escrow Curve Tokens) for doing this, and more tokens are received the longer the locking period.  veCRV holders can still participate in governance voting, they receive 50% of Curve trading fees and they qualify for boosted rewards (up to 2.5x) when they provide liquidity in Curve.\n",
        "\n",
        "The fees generated for veCRV holders are collected in the form of 3CRV tokens (shares in the [Curve tripool](https://curve.fi/3pool)), which can be redeemed for stablecoins if desired.  Fee distribution for veCRV holders happens weekly and users need to collect these manually and pay the gas cost for the transactions.\n",
        "\n",
        "In true Yearn fashion there is a vault & a strategy to maximise the returns from this CRV locking process.  This is the yveCRV yVault and it's different to the other vaults in that you *can't withdraw your tokens*.  Yearn takes CRV tokens and locks them with the CRV DAO for the maximum 4 year period and continually renews this lock.  This maximises the veCRV returns to the yVault.  In addition, all Yearn vaults send 10% of earned CRV into this vault for additional boost.  The returns to the users are in the form of the 3CRV tokens earned by the veCRV - like the CRV staking contract, these are collectable weekly as an income stream, and must be collected manually.  yVault depositors receive yveCRV-DAO tokens as their share in the vault.\n",
        "\n",
        "# Weekly Claiming of 3CRV Tokens\n",
        "\n",
        "As mentioned above, users must claim the 3CRV rewards from the yveCRV vault manually.  This is an on-chain transaction and requires expenditure of gas to do so.  This gives two barriers to claiming rewards - users must remember to do it weekly, and they must make a choice as to whether the gas expenditure is worth the claim.  It should be noted that pending claims accrue and are not lost - a user can claim less frequently than monthly which would result in less overal gas spent.  The chart below shows the number of claim events each week on the yveCRV vault.  As we can see from the chart, the number of claims ranges between 18 and 72 (averaging 20-30)  per week for the period up to June 2020.  Then the average number increases to 40 per month for the next 6 weeks before dropping considerably.  This increase, then decrease corresponds with the decrease in yveCRV pricing relative to curve discussed in this post on the [impact of yvBoost on yveCRV](https://scottincrypto.github.io/analytics/curve/yearn/2021/09/29/yvBoost-and-yveCRV-Vaults.html#Impact-of-Pricing).  It appears that users claimed their rewards, then sold yveCRV on the open market in order to deploy their CRV tokens elsewhere - perhaps to yvBoost where the claim process is automated, or to other sources of yield like [Convex](https://convexfinance.com).  Now it appears there are far fewer holders regularly claiming tokens - only around 10 per week."
      ]
    },
    {
      "cell_type": "code",
      "metadata": {
        "colab": {
          "base_uri": "https://localhost:8080/",
          "height": 511
        },
        "cellView": "form",
        "id": "J1rGuG39DODc",
        "outputId": "5f319643-7f73-4d2c-da6b-c22a9024cbda"
      },
      "source": [
        "#@title\n",
        "#hide_input\n",
        "#Plot no of claims each week\n",
        "df_p = %R weekly_claims %>% filter(week < max(week))\n",
        "fig = px.bar(df_p\n",
        "             , x = \"week\"\n",
        "             , y = \"no_of_claims\"\n",
        "             #, color = 'claim_lost_to_gas'\n",
        "             , labels=dict(week=\"Week\", no_of_claims=\"No of Claims\")\n",
        "             , title= \"Number of Claims on yveCRV per Week\"\n",
        "             , template=\"simple_white\", width=800, height=800/1.618\n",
        "             )\n",
        "fig.update_layout(showlegend=False)\n",
        "fig.update_yaxes(title_text='No of Claims')\n",
        "fig.update_xaxes(title_text=None)\n",
        "fig.show()"
      ],
      "execution_count": 11,
      "outputs": [
        {
          "output_type": "display_data",
          "data": {
            "text/html": [
              "<html>\n",
              "<head><meta charset=\"utf-8\" /></head>\n",
              "<body>\n",
              "    <div>            <script src=\"https://cdnjs.cloudflare.com/ajax/libs/mathjax/2.7.5/MathJax.js?config=TeX-AMS-MML_SVG\"></script><script type=\"text/javascript\">if (window.MathJax) {MathJax.Hub.Config({SVG: {font: \"STIX-Web\"}});}</script>                <script type=\"text/javascript\">window.PlotlyConfig = {MathJaxConfig: 'local'};</script>\n",
              "        <script src=\"https://cdn.plot.ly/plotly-2.4.2.min.js\"></script>                <div id=\"9e20f38e-99c6-4d02-aa89-37b53f710ae0\" class=\"plotly-graph-div\" style=\"height:494.4375772558714px; width:800px;\"></div>            <script type=\"text/javascript\">                                    window.PLOTLYENV=window.PLOTLYENV || {};                                    if (document.getElementById(\"9e20f38e-99c6-4d02-aa89-37b53f710ae0\")) {                    Plotly.newPlot(                        \"9e20f38e-99c6-4d02-aa89-37b53f710ae0\",                        [{\"alignmentgroup\":\"True\",\"hovertemplate\":\"Week=%{x}<br>No of Claims=%{y}<extra></extra>\",\"legendgroup\":\"\",\"marker\":{\"color\":\"#1F77B4\",\"pattern\":{\"shape\":\"\"}},\"name\":\"\",\"offsetgroup\":\"\",\"orientation\":\"v\",\"showlegend\":false,\"textposition\":\"auto\",\"type\":\"bar\",\"x\":[\"2020-12-27T00:00:00+00:00\",\"2021-01-03T00:00:00+00:00\",\"2021-01-10T00:00:00+00:00\",\"2021-01-17T00:00:00+00:00\",\"2021-01-24T00:00:00+00:00\",\"2021-01-31T00:00:00+00:00\",\"2021-02-07T00:00:00+00:00\",\"2021-02-14T00:00:00+00:00\",\"2021-02-21T00:00:00+00:00\",\"2021-02-28T00:00:00+00:00\",\"2021-03-07T00:00:00+00:00\",\"2021-03-14T00:00:00+00:00\",\"2021-03-21T00:00:00+00:00\",\"2021-03-28T00:00:00+00:00\",\"2021-04-04T00:00:00+00:00\",\"2021-04-11T00:00:00+00:00\",\"2021-04-18T00:00:00+00:00\",\"2021-04-25T00:00:00+00:00\",\"2021-05-02T00:00:00+00:00\",\"2021-05-09T00:00:00+00:00\",\"2021-05-16T00:00:00+00:00\",\"2021-05-23T00:00:00+00:00\",\"2021-05-30T00:00:00+00:00\",\"2021-06-06T00:00:00+00:00\",\"2021-06-13T00:00:00+00:00\",\"2021-06-20T00:00:00+00:00\",\"2021-06-27T00:00:00+00:00\",\"2021-07-04T00:00:00+00:00\",\"2021-07-11T00:00:00+00:00\",\"2021-07-18T00:00:00+00:00\",\"2021-07-25T00:00:00+00:00\",\"2021-08-01T00:00:00+00:00\",\"2021-08-08T00:00:00+00:00\",\"2021-08-15T00:00:00+00:00\",\"2021-08-22T00:00:00+00:00\",\"2021-08-29T00:00:00+00:00\",\"2021-09-05T00:00:00+00:00\",\"2021-09-12T00:00:00+00:00\",\"2021-09-19T00:00:00+00:00\"],\"xaxis\":\"x\",\"y\":[43,31,64,46,18,18,24,26,60,43,26,24,22,16,28,26,32,72,43,11,20,55,69,51,44,39,33,14,15,16,15,8,10,12,12,4,7,10,10],\"yaxis\":\"y\"}],                        {\"barmode\":\"relative\",\"height\":494.4375772558714,\"legend\":{\"tracegroupgap\":0},\"showlegend\":false,\"template\":{\"data\":{\"bar\":[{\"error_x\":{\"color\":\"rgb(36,36,36)\"},\"error_y\":{\"color\":\"rgb(36,36,36)\"},\"marker\":{\"line\":{\"color\":\"white\",\"width\":0.5},\"pattern\":{\"fillmode\":\"overlay\",\"size\":10,\"solidity\":0.2}},\"type\":\"bar\"}],\"barpolar\":[{\"marker\":{\"line\":{\"color\":\"white\",\"width\":0.5},\"pattern\":{\"fillmode\":\"overlay\",\"size\":10,\"solidity\":0.2}},\"type\":\"barpolar\"}],\"carpet\":[{\"aaxis\":{\"endlinecolor\":\"rgb(36,36,36)\",\"gridcolor\":\"white\",\"linecolor\":\"white\",\"minorgridcolor\":\"white\",\"startlinecolor\":\"rgb(36,36,36)\"},\"baxis\":{\"endlinecolor\":\"rgb(36,36,36)\",\"gridcolor\":\"white\",\"linecolor\":\"white\",\"minorgridcolor\":\"white\",\"startlinecolor\":\"rgb(36,36,36)\"},\"type\":\"carpet\"}],\"choropleth\":[{\"colorbar\":{\"outlinewidth\":1,\"tickcolor\":\"rgb(36,36,36)\",\"ticks\":\"outside\"},\"type\":\"choropleth\"}],\"contour\":[{\"colorbar\":{\"outlinewidth\":1,\"tickcolor\":\"rgb(36,36,36)\",\"ticks\":\"outside\"},\"colorscale\":[[0.0,\"#440154\"],[0.1111111111111111,\"#482878\"],[0.2222222222222222,\"#3e4989\"],[0.3333333333333333,\"#31688e\"],[0.4444444444444444,\"#26828e\"],[0.5555555555555556,\"#1f9e89\"],[0.6666666666666666,\"#35b779\"],[0.7777777777777778,\"#6ece58\"],[0.8888888888888888,\"#b5de2b\"],[1.0,\"#fde725\"]],\"type\":\"contour\"}],\"contourcarpet\":[{\"colorbar\":{\"outlinewidth\":1,\"tickcolor\":\"rgb(36,36,36)\",\"ticks\":\"outside\"},\"type\":\"contourcarpet\"}],\"heatmap\":[{\"colorbar\":{\"outlinewidth\":1,\"tickcolor\":\"rgb(36,36,36)\",\"ticks\":\"outside\"},\"colorscale\":[[0.0,\"#440154\"],[0.1111111111111111,\"#482878\"],[0.2222222222222222,\"#3e4989\"],[0.3333333333333333,\"#31688e\"],[0.4444444444444444,\"#26828e\"],[0.5555555555555556,\"#1f9e89\"],[0.6666666666666666,\"#35b779\"],[0.7777777777777778,\"#6ece58\"],[0.8888888888888888,\"#b5de2b\"],[1.0,\"#fde725\"]],\"type\":\"heatmap\"}],\"heatmapgl\":[{\"colorbar\":{\"outlinewidth\":1,\"tickcolor\":\"rgb(36,36,36)\",\"ticks\":\"outside\"},\"colorscale\":[[0.0,\"#440154\"],[0.1111111111111111,\"#482878\"],[0.2222222222222222,\"#3e4989\"],[0.3333333333333333,\"#31688e\"],[0.4444444444444444,\"#26828e\"],[0.5555555555555556,\"#1f9e89\"],[0.6666666666666666,\"#35b779\"],[0.7777777777777778,\"#6ece58\"],[0.8888888888888888,\"#b5de2b\"],[1.0,\"#fde725\"]],\"type\":\"heatmapgl\"}],\"histogram\":[{\"marker\":{\"line\":{\"color\":\"white\",\"width\":0.6}},\"type\":\"histogram\"}],\"histogram2d\":[{\"colorbar\":{\"outlinewidth\":1,\"tickcolor\":\"rgb(36,36,36)\",\"ticks\":\"outside\"},\"colorscale\":[[0.0,\"#440154\"],[0.1111111111111111,\"#482878\"],[0.2222222222222222,\"#3e4989\"],[0.3333333333333333,\"#31688e\"],[0.4444444444444444,\"#26828e\"],[0.5555555555555556,\"#1f9e89\"],[0.6666666666666666,\"#35b779\"],[0.7777777777777778,\"#6ece58\"],[0.8888888888888888,\"#b5de2b\"],[1.0,\"#fde725\"]],\"type\":\"histogram2d\"}],\"histogram2dcontour\":[{\"colorbar\":{\"outlinewidth\":1,\"tickcolor\":\"rgb(36,36,36)\",\"ticks\":\"outside\"},\"colorscale\":[[0.0,\"#440154\"],[0.1111111111111111,\"#482878\"],[0.2222222222222222,\"#3e4989\"],[0.3333333333333333,\"#31688e\"],[0.4444444444444444,\"#26828e\"],[0.5555555555555556,\"#1f9e89\"],[0.6666666666666666,\"#35b779\"],[0.7777777777777778,\"#6ece58\"],[0.8888888888888888,\"#b5de2b\"],[1.0,\"#fde725\"]],\"type\":\"histogram2dcontour\"}],\"mesh3d\":[{\"colorbar\":{\"outlinewidth\":1,\"tickcolor\":\"rgb(36,36,36)\",\"ticks\":\"outside\"},\"type\":\"mesh3d\"}],\"parcoords\":[{\"line\":{\"colorbar\":{\"outlinewidth\":1,\"tickcolor\":\"rgb(36,36,36)\",\"ticks\":\"outside\"}},\"type\":\"parcoords\"}],\"pie\":[{\"automargin\":true,\"type\":\"pie\"}],\"scatter\":[{\"marker\":{\"colorbar\":{\"outlinewidth\":1,\"tickcolor\":\"rgb(36,36,36)\",\"ticks\":\"outside\"}},\"type\":\"scatter\"}],\"scatter3d\":[{\"line\":{\"colorbar\":{\"outlinewidth\":1,\"tickcolor\":\"rgb(36,36,36)\",\"ticks\":\"outside\"}},\"marker\":{\"colorbar\":{\"outlinewidth\":1,\"tickcolor\":\"rgb(36,36,36)\",\"ticks\":\"outside\"}},\"type\":\"scatter3d\"}],\"scattercarpet\":[{\"marker\":{\"colorbar\":{\"outlinewidth\":1,\"tickcolor\":\"rgb(36,36,36)\",\"ticks\":\"outside\"}},\"type\":\"scattercarpet\"}],\"scattergeo\":[{\"marker\":{\"colorbar\":{\"outlinewidth\":1,\"tickcolor\":\"rgb(36,36,36)\",\"ticks\":\"outside\"}},\"type\":\"scattergeo\"}],\"scattergl\":[{\"marker\":{\"colorbar\":{\"outlinewidth\":1,\"tickcolor\":\"rgb(36,36,36)\",\"ticks\":\"outside\"}},\"type\":\"scattergl\"}],\"scattermapbox\":[{\"marker\":{\"colorbar\":{\"outlinewidth\":1,\"tickcolor\":\"rgb(36,36,36)\",\"ticks\":\"outside\"}},\"type\":\"scattermapbox\"}],\"scatterpolar\":[{\"marker\":{\"colorbar\":{\"outlinewidth\":1,\"tickcolor\":\"rgb(36,36,36)\",\"ticks\":\"outside\"}},\"type\":\"scatterpolar\"}],\"scatterpolargl\":[{\"marker\":{\"colorbar\":{\"outlinewidth\":1,\"tickcolor\":\"rgb(36,36,36)\",\"ticks\":\"outside\"}},\"type\":\"scatterpolargl\"}],\"scatterternary\":[{\"marker\":{\"colorbar\":{\"outlinewidth\":1,\"tickcolor\":\"rgb(36,36,36)\",\"ticks\":\"outside\"}},\"type\":\"scatterternary\"}],\"surface\":[{\"colorbar\":{\"outlinewidth\":1,\"tickcolor\":\"rgb(36,36,36)\",\"ticks\":\"outside\"},\"colorscale\":[[0.0,\"#440154\"],[0.1111111111111111,\"#482878\"],[0.2222222222222222,\"#3e4989\"],[0.3333333333333333,\"#31688e\"],[0.4444444444444444,\"#26828e\"],[0.5555555555555556,\"#1f9e89\"],[0.6666666666666666,\"#35b779\"],[0.7777777777777778,\"#6ece58\"],[0.8888888888888888,\"#b5de2b\"],[1.0,\"#fde725\"]],\"type\":\"surface\"}],\"table\":[{\"cells\":{\"fill\":{\"color\":\"rgb(237,237,237)\"},\"line\":{\"color\":\"white\"}},\"header\":{\"fill\":{\"color\":\"rgb(217,217,217)\"},\"line\":{\"color\":\"white\"}},\"type\":\"table\"}]},\"layout\":{\"annotationdefaults\":{\"arrowhead\":0,\"arrowwidth\":1},\"autotypenumbers\":\"strict\",\"coloraxis\":{\"colorbar\":{\"outlinewidth\":1,\"tickcolor\":\"rgb(36,36,36)\",\"ticks\":\"outside\"}},\"colorscale\":{\"diverging\":[[0.0,\"rgb(103,0,31)\"],[0.1,\"rgb(178,24,43)\"],[0.2,\"rgb(214,96,77)\"],[0.3,\"rgb(244,165,130)\"],[0.4,\"rgb(253,219,199)\"],[0.5,\"rgb(247,247,247)\"],[0.6,\"rgb(209,229,240)\"],[0.7,\"rgb(146,197,222)\"],[0.8,\"rgb(67,147,195)\"],[0.9,\"rgb(33,102,172)\"],[1.0,\"rgb(5,48,97)\"]],\"sequential\":[[0.0,\"#440154\"],[0.1111111111111111,\"#482878\"],[0.2222222222222222,\"#3e4989\"],[0.3333333333333333,\"#31688e\"],[0.4444444444444444,\"#26828e\"],[0.5555555555555556,\"#1f9e89\"],[0.6666666666666666,\"#35b779\"],[0.7777777777777778,\"#6ece58\"],[0.8888888888888888,\"#b5de2b\"],[1.0,\"#fde725\"]],\"sequentialminus\":[[0.0,\"#440154\"],[0.1111111111111111,\"#482878\"],[0.2222222222222222,\"#3e4989\"],[0.3333333333333333,\"#31688e\"],[0.4444444444444444,\"#26828e\"],[0.5555555555555556,\"#1f9e89\"],[0.6666666666666666,\"#35b779\"],[0.7777777777777778,\"#6ece58\"],[0.8888888888888888,\"#b5de2b\"],[1.0,\"#fde725\"]]},\"colorway\":[\"#1F77B4\",\"#FF7F0E\",\"#2CA02C\",\"#D62728\",\"#9467BD\",\"#8C564B\",\"#E377C2\",\"#7F7F7F\",\"#BCBD22\",\"#17BECF\"],\"font\":{\"color\":\"rgb(36,36,36)\"},\"geo\":{\"bgcolor\":\"white\",\"lakecolor\":\"white\",\"landcolor\":\"white\",\"showlakes\":true,\"showland\":true,\"subunitcolor\":\"white\"},\"hoverlabel\":{\"align\":\"left\"},\"hovermode\":\"closest\",\"mapbox\":{\"style\":\"light\"},\"paper_bgcolor\":\"white\",\"plot_bgcolor\":\"white\",\"polar\":{\"angularaxis\":{\"gridcolor\":\"rgb(232,232,232)\",\"linecolor\":\"rgb(36,36,36)\",\"showgrid\":false,\"showline\":true,\"ticks\":\"outside\"},\"bgcolor\":\"white\",\"radialaxis\":{\"gridcolor\":\"rgb(232,232,232)\",\"linecolor\":\"rgb(36,36,36)\",\"showgrid\":false,\"showline\":true,\"ticks\":\"outside\"}},\"scene\":{\"xaxis\":{\"backgroundcolor\":\"white\",\"gridcolor\":\"rgb(232,232,232)\",\"gridwidth\":2,\"linecolor\":\"rgb(36,36,36)\",\"showbackground\":true,\"showgrid\":false,\"showline\":true,\"ticks\":\"outside\",\"zeroline\":false,\"zerolinecolor\":\"rgb(36,36,36)\"},\"yaxis\":{\"backgroundcolor\":\"white\",\"gridcolor\":\"rgb(232,232,232)\",\"gridwidth\":2,\"linecolor\":\"rgb(36,36,36)\",\"showbackground\":true,\"showgrid\":false,\"showline\":true,\"ticks\":\"outside\",\"zeroline\":false,\"zerolinecolor\":\"rgb(36,36,36)\"},\"zaxis\":{\"backgroundcolor\":\"white\",\"gridcolor\":\"rgb(232,232,232)\",\"gridwidth\":2,\"linecolor\":\"rgb(36,36,36)\",\"showbackground\":true,\"showgrid\":false,\"showline\":true,\"ticks\":\"outside\",\"zeroline\":false,\"zerolinecolor\":\"rgb(36,36,36)\"}},\"shapedefaults\":{\"fillcolor\":\"black\",\"line\":{\"width\":0},\"opacity\":0.3},\"ternary\":{\"aaxis\":{\"gridcolor\":\"rgb(232,232,232)\",\"linecolor\":\"rgb(36,36,36)\",\"showgrid\":false,\"showline\":true,\"ticks\":\"outside\"},\"baxis\":{\"gridcolor\":\"rgb(232,232,232)\",\"linecolor\":\"rgb(36,36,36)\",\"showgrid\":false,\"showline\":true,\"ticks\":\"outside\"},\"bgcolor\":\"white\",\"caxis\":{\"gridcolor\":\"rgb(232,232,232)\",\"linecolor\":\"rgb(36,36,36)\",\"showgrid\":false,\"showline\":true,\"ticks\":\"outside\"}},\"title\":{\"x\":0.05},\"xaxis\":{\"automargin\":true,\"gridcolor\":\"rgb(232,232,232)\",\"linecolor\":\"rgb(36,36,36)\",\"showgrid\":false,\"showline\":true,\"ticks\":\"outside\",\"title\":{\"standoff\":15},\"zeroline\":false,\"zerolinecolor\":\"rgb(36,36,36)\"},\"yaxis\":{\"automargin\":true,\"gridcolor\":\"rgb(232,232,232)\",\"linecolor\":\"rgb(36,36,36)\",\"showgrid\":false,\"showline\":true,\"ticks\":\"outside\",\"title\":{\"standoff\":15},\"zeroline\":false,\"zerolinecolor\":\"rgb(36,36,36)\"}}},\"title\":{\"text\":\"Number of Claims on yveCRV per Week\"},\"width\":800,\"xaxis\":{\"anchor\":\"y\",\"domain\":[0.0,1.0],\"title\":{}},\"yaxis\":{\"anchor\":\"x\",\"domain\":[0.0,1.0],\"title\":{\"text\":\"No of Claims\"}}},                        {\"responsive\": true}                    ).then(function(){\n",
              "                            \n",
              "var gd = document.getElementById('9e20f38e-99c6-4d02-aa89-37b53f710ae0');\n",
              "var x = new MutationObserver(function (mutations, observer) {{\n",
              "        var display = window.getComputedStyle(gd).display;\n",
              "        if (!display || display === 'none') {{\n",
              "            console.log([gd, 'removed!']);\n",
              "            Plotly.purge(gd);\n",
              "            observer.disconnect();\n",
              "        }}\n",
              "}});\n",
              "\n",
              "// Listen for the removal of the full notebook cells\n",
              "var notebookContainer = gd.closest('#notebook-container');\n",
              "if (notebookContainer) {{\n",
              "    x.observe(notebookContainer, {childList: true});\n",
              "}}\n",
              "\n",
              "// Listen for the clearing of the current output cell\n",
              "var outputEl = gd.closest('.output');\n",
              "if (outputEl) {{\n",
              "    x.observe(outputEl, {childList: true});\n",
              "}}\n",
              "\n",
              "                        })                };                            </script>        </div>\n",
              "</body>\n",
              "</html>"
            ]
          },
          "metadata": {}
        }
      ]
    },
    {
      "cell_type": "markdown",
      "metadata": {
        "id": "ekL7rY8SGVP_"
      },
      "source": [
        "# Rewards Claimed & Unclaimed\n",
        "\n",
        "As an extension of how many users claim, it's worth exploring *how much* of the potential rewards are claimed by users.  We mentioned the barriers to claiming earlier - let's see what sort of impact they have.  The chart below shows the percentage of claimed & unclaimed 3CRV in the yvCRV vault.  The numbers are the cumulative percentages from the beginning of the vault operation.  We see from the chart a that currently only 70% of the rewards available have been claimed.  This has been as low as 34% back in April 2021.  Yearn saw a clear need to automate the claim process and the yvBoost initiative was the result.  The yvBoost vault accepts yveCRV-DAO tokens from yveCRV, and automatically claims the rewards each week on behalf of the users, swapping the 3CRV rewards for more yveCRV-DAO to increase the value locked in the vault."
      ]
    },
    {
      "cell_type": "code",
      "metadata": {
        "colab": {
          "base_uri": "https://localhost:8080/",
          "height": 511
        },
        "id": "kgTEmM-3HPQk",
        "outputId": "9afb51b1-3354-4d42-89c7-18ace5e6c901"
      },
      "source": [
        "#hide_input\n",
        "#Plot the percentages\n",
        "df_rel_debt = %R claims_percent_table\n",
        "fig = px.area(df_rel_debt\n",
        "              , x=\"week\"\n",
        "              , y=\"percentage\"\n",
        "              , color=\"measure\"\n",
        "              , template=\"simple_white\", width=800, height=800/1.618\n",
        "              , title= \"Cumulative Percentage of Rewards Claimed in yveCRV Vault\")\n",
        "fig.update_yaxes(title_text='% of Available Claims')\n",
        "fig.update_xaxes(title_text=None)\n",
        "fig.update_layout(legend=dict(\n",
        "    yanchor=\"top\",\n",
        "    y=0.90,\n",
        "    xanchor=\"right\",\n",
        "    x=0.99\n",
        "    \n",
        "))\n",
        "fig.update_layout(legend_title_text=None)\n",
        "\n",
        "fig.show()"
      ],
      "execution_count": 15,
      "outputs": [
        {
          "output_type": "display_data",
          "data": {
            "text/html": [
              "<html>\n",
              "<head><meta charset=\"utf-8\" /></head>\n",
              "<body>\n",
              "    <div>            <script src=\"https://cdnjs.cloudflare.com/ajax/libs/mathjax/2.7.5/MathJax.js?config=TeX-AMS-MML_SVG\"></script><script type=\"text/javascript\">if (window.MathJax) {MathJax.Hub.Config({SVG: {font: \"STIX-Web\"}});}</script>                <script type=\"text/javascript\">window.PlotlyConfig = {MathJaxConfig: 'local'};</script>\n",
              "        <script src=\"https://cdn.plot.ly/plotly-2.4.2.min.js\"></script>                <div id=\"44d1aefb-850a-4f29-bc38-d3276b18fd7c\" class=\"plotly-graph-div\" style=\"height:494.4375772558714px; width:800px;\"></div>            <script type=\"text/javascript\">                                    window.PLOTLYENV=window.PLOTLYENV || {};                                    if (document.getElementById(\"44d1aefb-850a-4f29-bc38-d3276b18fd7c\")) {                    Plotly.newPlot(                        \"44d1aefb-850a-4f29-bc38-d3276b18fd7c\",                        [{\"hovertemplate\":\"measure=Percent Claimed<br>week=%{x}<br>percentage=%{y}<extra></extra>\",\"legendgroup\":\"Percent Claimed\",\"line\":{\"color\":\"#1F77B4\"},\"marker\":{\"symbol\":\"circle\"},\"mode\":\"lines\",\"name\":\"Percent Claimed\",\"orientation\":\"v\",\"showlegend\":true,\"stackgroup\":\"1\",\"type\":\"scatter\",\"x\":[\"2020-12-27T00:00:00+00:00\",\"2021-01-03T00:00:00+00:00\",\"2021-01-10T00:00:00+00:00\",\"2021-01-17T00:00:00+00:00\",\"2021-01-24T00:00:00+00:00\",\"2021-01-31T00:00:00+00:00\",\"2021-02-07T00:00:00+00:00\",\"2021-02-14T00:00:00+00:00\",\"2021-02-21T00:00:00+00:00\",\"2021-02-28T00:00:00+00:00\",\"2021-03-07T00:00:00+00:00\",\"2021-03-14T00:00:00+00:00\",\"2021-03-21T00:00:00+00:00\",\"2021-03-28T00:00:00+00:00\",\"2021-04-04T00:00:00+00:00\",\"2021-04-11T00:00:00+00:00\",\"2021-04-18T00:00:00+00:00\",\"2021-04-25T00:00:00+00:00\",\"2021-05-02T00:00:00+00:00\",\"2021-05-09T00:00:00+00:00\",\"2021-05-16T00:00:00+00:00\",\"2021-05-23T00:00:00+00:00\",\"2021-05-30T00:00:00+00:00\",\"2021-06-06T00:00:00+00:00\",\"2021-06-13T00:00:00+00:00\",\"2021-06-20T00:00:00+00:00\",\"2021-06-27T00:00:00+00:00\",\"2021-07-04T00:00:00+00:00\",\"2021-07-11T00:00:00+00:00\",\"2021-07-18T00:00:00+00:00\",\"2021-07-25T00:00:00+00:00\",\"2021-08-01T00:00:00+00:00\",\"2021-08-08T00:00:00+00:00\",\"2021-08-15T00:00:00+00:00\",\"2021-08-22T00:00:00+00:00\",\"2021-08-29T00:00:00+00:00\",\"2021-09-05T00:00:00+00:00\",\"2021-09-12T00:00:00+00:00\",\"2021-09-19T00:00:00+00:00\",\"2021-09-26T00:00:00+00:00\"],\"xaxis\":\"x\",\"y\":[83.06117047791584,74.55468236515122,84.062868533402,82.88453239489758,72.81937349576884,71.78121875950707,62.970612379326965,45.99254695997482,47.96159018417143,47.35025179478587,42.6175808770896,41.699313802208586,39.77204101958029,37.708398307953125,37.240952734974826,35.288001770385065,34.07112936536114,34.30239800753179,37.58658086275054,40.123183881068854,42.93696522953093,48.22707427282477,53.827204424838584,55.72921800695505,58.658950159101906,60.960027208830084,62.18245652823353,62.99759315916973,63.65761482440506,64.3942253464823,64.98131735149093,65.49968513625274,66.20296758866675,66.97108916537198,67.92813598424186,68.49880849406118,69.08608576543796,69.96757523501081,70.55688519099641,70.55821676243517],\"yaxis\":\"y\"},{\"hovertemplate\":\"measure=Percent Unclaimed<br>week=%{x}<br>percentage=%{y}<extra></extra>\",\"legendgroup\":\"Percent Unclaimed\",\"line\":{\"color\":\"#FF7F0E\"},\"marker\":{\"symbol\":\"circle\"},\"mode\":\"lines\",\"name\":\"Percent Unclaimed\",\"orientation\":\"v\",\"showlegend\":true,\"stackgroup\":\"1\",\"type\":\"scatter\",\"x\":[\"2020-12-27T00:00:00+00:00\",\"2021-01-03T00:00:00+00:00\",\"2021-01-10T00:00:00+00:00\",\"2021-01-17T00:00:00+00:00\",\"2021-01-24T00:00:00+00:00\",\"2021-01-31T00:00:00+00:00\",\"2021-02-07T00:00:00+00:00\",\"2021-02-14T00:00:00+00:00\",\"2021-02-21T00:00:00+00:00\",\"2021-02-28T00:00:00+00:00\",\"2021-03-07T00:00:00+00:00\",\"2021-03-14T00:00:00+00:00\",\"2021-03-21T00:00:00+00:00\",\"2021-03-28T00:00:00+00:00\",\"2021-04-04T00:00:00+00:00\",\"2021-04-11T00:00:00+00:00\",\"2021-04-18T00:00:00+00:00\",\"2021-04-25T00:00:00+00:00\",\"2021-05-02T00:00:00+00:00\",\"2021-05-09T00:00:00+00:00\",\"2021-05-16T00:00:00+00:00\",\"2021-05-23T00:00:00+00:00\",\"2021-05-30T00:00:00+00:00\",\"2021-06-06T00:00:00+00:00\",\"2021-06-13T00:00:00+00:00\",\"2021-06-20T00:00:00+00:00\",\"2021-06-27T00:00:00+00:00\",\"2021-07-04T00:00:00+00:00\",\"2021-07-11T00:00:00+00:00\",\"2021-07-18T00:00:00+00:00\",\"2021-07-25T00:00:00+00:00\",\"2021-08-01T00:00:00+00:00\",\"2021-08-08T00:00:00+00:00\",\"2021-08-15T00:00:00+00:00\",\"2021-08-22T00:00:00+00:00\",\"2021-08-29T00:00:00+00:00\",\"2021-09-05T00:00:00+00:00\",\"2021-09-12T00:00:00+00:00\",\"2021-09-19T00:00:00+00:00\",\"2021-09-26T00:00:00+00:00\"],\"xaxis\":\"x\",\"y\":[16.938829522084163,25.445317634848777,15.937131466598004,17.115467605102424,27.180626504231157,28.21878124049293,37.029387620673035,54.00745304002518,52.03840981582857,52.64974820521413,57.3824191229104,58.300686197791414,60.22795898041971,62.291601692046875,62.759047265025174,64.71199822961493,65.92887063463886,65.69760199246821,62.41341913724946,59.876816118931146,57.06303477046907,51.77292572717523,46.172795575161416,44.27078199304495,41.341049840898094,39.039972791169916,37.81754347176647,37.00240684083027,36.34238517559494,35.6057746535177,35.01868264850907,34.50031486374726,33.79703241133325,33.02891083462802,32.07186401575814,31.50119150593882,30.913914234562043,30.032424764989187,29.44311480900359,29.441783237564835],\"yaxis\":\"y\"}],                        {\"height\":494.4375772558714,\"legend\":{\"title\":{},\"tracegroupgap\":0,\"x\":0.99,\"xanchor\":\"right\",\"y\":0.9,\"yanchor\":\"top\"},\"template\":{\"data\":{\"bar\":[{\"error_x\":{\"color\":\"rgb(36,36,36)\"},\"error_y\":{\"color\":\"rgb(36,36,36)\"},\"marker\":{\"line\":{\"color\":\"white\",\"width\":0.5},\"pattern\":{\"fillmode\":\"overlay\",\"size\":10,\"solidity\":0.2}},\"type\":\"bar\"}],\"barpolar\":[{\"marker\":{\"line\":{\"color\":\"white\",\"width\":0.5},\"pattern\":{\"fillmode\":\"overlay\",\"size\":10,\"solidity\":0.2}},\"type\":\"barpolar\"}],\"carpet\":[{\"aaxis\":{\"endlinecolor\":\"rgb(36,36,36)\",\"gridcolor\":\"white\",\"linecolor\":\"white\",\"minorgridcolor\":\"white\",\"startlinecolor\":\"rgb(36,36,36)\"},\"baxis\":{\"endlinecolor\":\"rgb(36,36,36)\",\"gridcolor\":\"white\",\"linecolor\":\"white\",\"minorgridcolor\":\"white\",\"startlinecolor\":\"rgb(36,36,36)\"},\"type\":\"carpet\"}],\"choropleth\":[{\"colorbar\":{\"outlinewidth\":1,\"tickcolor\":\"rgb(36,36,36)\",\"ticks\":\"outside\"},\"type\":\"choropleth\"}],\"contour\":[{\"colorbar\":{\"outlinewidth\":1,\"tickcolor\":\"rgb(36,36,36)\",\"ticks\":\"outside\"},\"colorscale\":[[0.0,\"#440154\"],[0.1111111111111111,\"#482878\"],[0.2222222222222222,\"#3e4989\"],[0.3333333333333333,\"#31688e\"],[0.4444444444444444,\"#26828e\"],[0.5555555555555556,\"#1f9e89\"],[0.6666666666666666,\"#35b779\"],[0.7777777777777778,\"#6ece58\"],[0.8888888888888888,\"#b5de2b\"],[1.0,\"#fde725\"]],\"type\":\"contour\"}],\"contourcarpet\":[{\"colorbar\":{\"outlinewidth\":1,\"tickcolor\":\"rgb(36,36,36)\",\"ticks\":\"outside\"},\"type\":\"contourcarpet\"}],\"heatmap\":[{\"colorbar\":{\"outlinewidth\":1,\"tickcolor\":\"rgb(36,36,36)\",\"ticks\":\"outside\"},\"colorscale\":[[0.0,\"#440154\"],[0.1111111111111111,\"#482878\"],[0.2222222222222222,\"#3e4989\"],[0.3333333333333333,\"#31688e\"],[0.4444444444444444,\"#26828e\"],[0.5555555555555556,\"#1f9e89\"],[0.6666666666666666,\"#35b779\"],[0.7777777777777778,\"#6ece58\"],[0.8888888888888888,\"#b5de2b\"],[1.0,\"#fde725\"]],\"type\":\"heatmap\"}],\"heatmapgl\":[{\"colorbar\":{\"outlinewidth\":1,\"tickcolor\":\"rgb(36,36,36)\",\"ticks\":\"outside\"},\"colorscale\":[[0.0,\"#440154\"],[0.1111111111111111,\"#482878\"],[0.2222222222222222,\"#3e4989\"],[0.3333333333333333,\"#31688e\"],[0.4444444444444444,\"#26828e\"],[0.5555555555555556,\"#1f9e89\"],[0.6666666666666666,\"#35b779\"],[0.7777777777777778,\"#6ece58\"],[0.8888888888888888,\"#b5de2b\"],[1.0,\"#fde725\"]],\"type\":\"heatmapgl\"}],\"histogram\":[{\"marker\":{\"line\":{\"color\":\"white\",\"width\":0.6}},\"type\":\"histogram\"}],\"histogram2d\":[{\"colorbar\":{\"outlinewidth\":1,\"tickcolor\":\"rgb(36,36,36)\",\"ticks\":\"outside\"},\"colorscale\":[[0.0,\"#440154\"],[0.1111111111111111,\"#482878\"],[0.2222222222222222,\"#3e4989\"],[0.3333333333333333,\"#31688e\"],[0.4444444444444444,\"#26828e\"],[0.5555555555555556,\"#1f9e89\"],[0.6666666666666666,\"#35b779\"],[0.7777777777777778,\"#6ece58\"],[0.8888888888888888,\"#b5de2b\"],[1.0,\"#fde725\"]],\"type\":\"histogram2d\"}],\"histogram2dcontour\":[{\"colorbar\":{\"outlinewidth\":1,\"tickcolor\":\"rgb(36,36,36)\",\"ticks\":\"outside\"},\"colorscale\":[[0.0,\"#440154\"],[0.1111111111111111,\"#482878\"],[0.2222222222222222,\"#3e4989\"],[0.3333333333333333,\"#31688e\"],[0.4444444444444444,\"#26828e\"],[0.5555555555555556,\"#1f9e89\"],[0.6666666666666666,\"#35b779\"],[0.7777777777777778,\"#6ece58\"],[0.8888888888888888,\"#b5de2b\"],[1.0,\"#fde725\"]],\"type\":\"histogram2dcontour\"}],\"mesh3d\":[{\"colorbar\":{\"outlinewidth\":1,\"tickcolor\":\"rgb(36,36,36)\",\"ticks\":\"outside\"},\"type\":\"mesh3d\"}],\"parcoords\":[{\"line\":{\"colorbar\":{\"outlinewidth\":1,\"tickcolor\":\"rgb(36,36,36)\",\"ticks\":\"outside\"}},\"type\":\"parcoords\"}],\"pie\":[{\"automargin\":true,\"type\":\"pie\"}],\"scatter\":[{\"marker\":{\"colorbar\":{\"outlinewidth\":1,\"tickcolor\":\"rgb(36,36,36)\",\"ticks\":\"outside\"}},\"type\":\"scatter\"}],\"scatter3d\":[{\"line\":{\"colorbar\":{\"outlinewidth\":1,\"tickcolor\":\"rgb(36,36,36)\",\"ticks\":\"outside\"}},\"marker\":{\"colorbar\":{\"outlinewidth\":1,\"tickcolor\":\"rgb(36,36,36)\",\"ticks\":\"outside\"}},\"type\":\"scatter3d\"}],\"scattercarpet\":[{\"marker\":{\"colorbar\":{\"outlinewidth\":1,\"tickcolor\":\"rgb(36,36,36)\",\"ticks\":\"outside\"}},\"type\":\"scattercarpet\"}],\"scattergeo\":[{\"marker\":{\"colorbar\":{\"outlinewidth\":1,\"tickcolor\":\"rgb(36,36,36)\",\"ticks\":\"outside\"}},\"type\":\"scattergeo\"}],\"scattergl\":[{\"marker\":{\"colorbar\":{\"outlinewidth\":1,\"tickcolor\":\"rgb(36,36,36)\",\"ticks\":\"outside\"}},\"type\":\"scattergl\"}],\"scattermapbox\":[{\"marker\":{\"colorbar\":{\"outlinewidth\":1,\"tickcolor\":\"rgb(36,36,36)\",\"ticks\":\"outside\"}},\"type\":\"scattermapbox\"}],\"scatterpolar\":[{\"marker\":{\"colorbar\":{\"outlinewidth\":1,\"tickcolor\":\"rgb(36,36,36)\",\"ticks\":\"outside\"}},\"type\":\"scatterpolar\"}],\"scatterpolargl\":[{\"marker\":{\"colorbar\":{\"outlinewidth\":1,\"tickcolor\":\"rgb(36,36,36)\",\"ticks\":\"outside\"}},\"type\":\"scatterpolargl\"}],\"scatterternary\":[{\"marker\":{\"colorbar\":{\"outlinewidth\":1,\"tickcolor\":\"rgb(36,36,36)\",\"ticks\":\"outside\"}},\"type\":\"scatterternary\"}],\"surface\":[{\"colorbar\":{\"outlinewidth\":1,\"tickcolor\":\"rgb(36,36,36)\",\"ticks\":\"outside\"},\"colorscale\":[[0.0,\"#440154\"],[0.1111111111111111,\"#482878\"],[0.2222222222222222,\"#3e4989\"],[0.3333333333333333,\"#31688e\"],[0.4444444444444444,\"#26828e\"],[0.5555555555555556,\"#1f9e89\"],[0.6666666666666666,\"#35b779\"],[0.7777777777777778,\"#6ece58\"],[0.8888888888888888,\"#b5de2b\"],[1.0,\"#fde725\"]],\"type\":\"surface\"}],\"table\":[{\"cells\":{\"fill\":{\"color\":\"rgb(237,237,237)\"},\"line\":{\"color\":\"white\"}},\"header\":{\"fill\":{\"color\":\"rgb(217,217,217)\"},\"line\":{\"color\":\"white\"}},\"type\":\"table\"}]},\"layout\":{\"annotationdefaults\":{\"arrowhead\":0,\"arrowwidth\":1},\"autotypenumbers\":\"strict\",\"coloraxis\":{\"colorbar\":{\"outlinewidth\":1,\"tickcolor\":\"rgb(36,36,36)\",\"ticks\":\"outside\"}},\"colorscale\":{\"diverging\":[[0.0,\"rgb(103,0,31)\"],[0.1,\"rgb(178,24,43)\"],[0.2,\"rgb(214,96,77)\"],[0.3,\"rgb(244,165,130)\"],[0.4,\"rgb(253,219,199)\"],[0.5,\"rgb(247,247,247)\"],[0.6,\"rgb(209,229,240)\"],[0.7,\"rgb(146,197,222)\"],[0.8,\"rgb(67,147,195)\"],[0.9,\"rgb(33,102,172)\"],[1.0,\"rgb(5,48,97)\"]],\"sequential\":[[0.0,\"#440154\"],[0.1111111111111111,\"#482878\"],[0.2222222222222222,\"#3e4989\"],[0.3333333333333333,\"#31688e\"],[0.4444444444444444,\"#26828e\"],[0.5555555555555556,\"#1f9e89\"],[0.6666666666666666,\"#35b779\"],[0.7777777777777778,\"#6ece58\"],[0.8888888888888888,\"#b5de2b\"],[1.0,\"#fde725\"]],\"sequentialminus\":[[0.0,\"#440154\"],[0.1111111111111111,\"#482878\"],[0.2222222222222222,\"#3e4989\"],[0.3333333333333333,\"#31688e\"],[0.4444444444444444,\"#26828e\"],[0.5555555555555556,\"#1f9e89\"],[0.6666666666666666,\"#35b779\"],[0.7777777777777778,\"#6ece58\"],[0.8888888888888888,\"#b5de2b\"],[1.0,\"#fde725\"]]},\"colorway\":[\"#1F77B4\",\"#FF7F0E\",\"#2CA02C\",\"#D62728\",\"#9467BD\",\"#8C564B\",\"#E377C2\",\"#7F7F7F\",\"#BCBD22\",\"#17BECF\"],\"font\":{\"color\":\"rgb(36,36,36)\"},\"geo\":{\"bgcolor\":\"white\",\"lakecolor\":\"white\",\"landcolor\":\"white\",\"showlakes\":true,\"showland\":true,\"subunitcolor\":\"white\"},\"hoverlabel\":{\"align\":\"left\"},\"hovermode\":\"closest\",\"mapbox\":{\"style\":\"light\"},\"paper_bgcolor\":\"white\",\"plot_bgcolor\":\"white\",\"polar\":{\"angularaxis\":{\"gridcolor\":\"rgb(232,232,232)\",\"linecolor\":\"rgb(36,36,36)\",\"showgrid\":false,\"showline\":true,\"ticks\":\"outside\"},\"bgcolor\":\"white\",\"radialaxis\":{\"gridcolor\":\"rgb(232,232,232)\",\"linecolor\":\"rgb(36,36,36)\",\"showgrid\":false,\"showline\":true,\"ticks\":\"outside\"}},\"scene\":{\"xaxis\":{\"backgroundcolor\":\"white\",\"gridcolor\":\"rgb(232,232,232)\",\"gridwidth\":2,\"linecolor\":\"rgb(36,36,36)\",\"showbackground\":true,\"showgrid\":false,\"showline\":true,\"ticks\":\"outside\",\"zeroline\":false,\"zerolinecolor\":\"rgb(36,36,36)\"},\"yaxis\":{\"backgroundcolor\":\"white\",\"gridcolor\":\"rgb(232,232,232)\",\"gridwidth\":2,\"linecolor\":\"rgb(36,36,36)\",\"showbackground\":true,\"showgrid\":false,\"showline\":true,\"ticks\":\"outside\",\"zeroline\":false,\"zerolinecolor\":\"rgb(36,36,36)\"},\"zaxis\":{\"backgroundcolor\":\"white\",\"gridcolor\":\"rgb(232,232,232)\",\"gridwidth\":2,\"linecolor\":\"rgb(36,36,36)\",\"showbackground\":true,\"showgrid\":false,\"showline\":true,\"ticks\":\"outside\",\"zeroline\":false,\"zerolinecolor\":\"rgb(36,36,36)\"}},\"shapedefaults\":{\"fillcolor\":\"black\",\"line\":{\"width\":0},\"opacity\":0.3},\"ternary\":{\"aaxis\":{\"gridcolor\":\"rgb(232,232,232)\",\"linecolor\":\"rgb(36,36,36)\",\"showgrid\":false,\"showline\":true,\"ticks\":\"outside\"},\"baxis\":{\"gridcolor\":\"rgb(232,232,232)\",\"linecolor\":\"rgb(36,36,36)\",\"showgrid\":false,\"showline\":true,\"ticks\":\"outside\"},\"bgcolor\":\"white\",\"caxis\":{\"gridcolor\":\"rgb(232,232,232)\",\"linecolor\":\"rgb(36,36,36)\",\"showgrid\":false,\"showline\":true,\"ticks\":\"outside\"}},\"title\":{\"x\":0.05},\"xaxis\":{\"automargin\":true,\"gridcolor\":\"rgb(232,232,232)\",\"linecolor\":\"rgb(36,36,36)\",\"showgrid\":false,\"showline\":true,\"ticks\":\"outside\",\"title\":{\"standoff\":15},\"zeroline\":false,\"zerolinecolor\":\"rgb(36,36,36)\"},\"yaxis\":{\"automargin\":true,\"gridcolor\":\"rgb(232,232,232)\",\"linecolor\":\"rgb(36,36,36)\",\"showgrid\":false,\"showline\":true,\"ticks\":\"outside\",\"title\":{\"standoff\":15},\"zeroline\":false,\"zerolinecolor\":\"rgb(36,36,36)\"}}},\"title\":{\"text\":\"Cumulative Percentage of Rewards Claimed in yveCRV Vault\"},\"width\":800,\"xaxis\":{\"anchor\":\"y\",\"domain\":[0.0,1.0],\"title\":{}},\"yaxis\":{\"anchor\":\"x\",\"domain\":[0.0,1.0],\"title\":{\"text\":\"% of Available Claims\"}}},                        {\"responsive\": true}                    ).then(function(){\n",
              "                            \n",
              "var gd = document.getElementById('44d1aefb-850a-4f29-bc38-d3276b18fd7c');\n",
              "var x = new MutationObserver(function (mutations, observer) {{\n",
              "        var display = window.getComputedStyle(gd).display;\n",
              "        if (!display || display === 'none') {{\n",
              "            console.log([gd, 'removed!']);\n",
              "            Plotly.purge(gd);\n",
              "            observer.disconnect();\n",
              "        }}\n",
              "}});\n",
              "\n",
              "// Listen for the removal of the full notebook cells\n",
              "var notebookContainer = gd.closest('#notebook-container');\n",
              "if (notebookContainer) {{\n",
              "    x.observe(notebookContainer, {childList: true});\n",
              "}}\n",
              "\n",
              "// Listen for the clearing of the current output cell\n",
              "var outputEl = gd.closest('.output');\n",
              "if (outputEl) {{\n",
              "    x.observe(outputEl, {childList: true});\n",
              "}}\n",
              "\n",
              "                        })                };                            </script>        </div>\n",
              "</body>\n",
              "</html>"
            ]
          },
          "metadata": {}
        }
      ]
    },
    {
      "cell_type": "code",
      "metadata": {
        "id": "oKTPDJ8l7c_-"
      },
      "source": [
        "#hide_input\n",
        "#Display summary table\n",
        "%%R \n",
        "summary_table <- roll_up_table %>% \n",
        "  bind_rows(total_row) %>%\n",
        "  select(claim_lost_to_gas, no_of_claims, amount_claimed, gas_spent_usd, gas_spent_eth) %>%\n",
        "  rename(\"Claim Lost to Gas\" = claim_lost_to_gas,\n",
        "         \"Number of Claims\" = no_of_claims,\n",
        "         \"Amount Claimed (USD)\" = amount_claimed,\n",
        "         \"Gas Spent (USD)\" = gas_spent_usd,\n",
        "         \"Gas Spent (ETH)\" = gas_spent_eth\n",
        "         )\n",
        "  \n",
        "  total_table <- total_row %>% \n",
        "  select(no_of_claims, amount_claimed, gas_spent_usd, gas_spent_eth) %>%\n",
        "  mutate(\"Percentage Gas Spend\" = gas_spent_usd / amount_claimed * 100) %>%\n",
        "  rename(\n",
        "         \"Number of Claims\" = no_of_claims,\n",
        "         \"Amount Claimed (USD)\" = amount_claimed,\n",
        "         \"Gas Spent (USD)\" = gas_spent_usd,\n",
        "         \"Gas Spent (ETH)\" = gas_spent_eth\n",
        "         )\n"
      ],
      "execution_count": 23,
      "outputs": []
    },
    {
      "cell_type": "markdown",
      "metadata": {
        "id": "Vg8_p8AjKWVJ"
      },
      "source": [
        "#How Much Gas Has Been Spent on Claims?\n",
        "\n",
        "It was mentioned above that each claim requires an on-chain transaction and expenditure of gas.  Over the history of the yveCRV vault, users have spent just over 8 ETH on reward claims, worth over USD 16k when valued with the ETH price at the time of claim.  This is a small percentage of the rewards claimed however - around 0.77%.  We will look further into the detail of these claims and the gas costs to see whether gas has an impact on the overall returns of certain claims."
      ]
    },
    {
      "cell_type": "code",
      "metadata": {
        "colab": {
          "base_uri": "https://localhost:8080/",
          "height": 80
        },
        "id": "UvBloXgF9Qj5",
        "outputId": "323bbb40-aee3-4a83-e69b-c6148606bb0c"
      },
      "source": [
        "#hide_input\n",
        "%R total_table"
      ],
      "execution_count": 24,
      "outputs": [
        {
          "output_type": "execute_result",
          "data": {
            "text/html": [
              "<div>\n",
              "<style scoped>\n",
              "    .dataframe tbody tr th:only-of-type {\n",
              "        vertical-align: middle;\n",
              "    }\n",
              "\n",
              "    .dataframe tbody tr th {\n",
              "        vertical-align: top;\n",
              "    }\n",
              "\n",
              "    .dataframe thead th {\n",
              "        text-align: right;\n",
              "    }\n",
              "</style>\n",
              "<table border=\"1\" class=\"dataframe\">\n",
              "  <thead>\n",
              "    <tr style=\"text-align: right;\">\n",
              "      <th></th>\n",
              "      <th>Number of Claims</th>\n",
              "      <th>Amount Claimed (USD)</th>\n",
              "      <th>Gas Spent (USD)</th>\n",
              "      <th>Gas Spent (ETH)</th>\n",
              "      <th>Percentage Gas Spend</th>\n",
              "    </tr>\n",
              "  </thead>\n",
              "  <tbody>\n",
              "    <tr>\n",
              "      <th>1</th>\n",
              "      <td>1118</td>\n",
              "      <td>2172537.0</td>\n",
              "      <td>16660.0</td>\n",
              "      <td>8.07</td>\n",
              "      <td>0.766845</td>\n",
              "    </tr>\n",
              "  </tbody>\n",
              "</table>\n",
              "</div>"
            ],
            "text/plain": [
              "   Number of Claims  ...  Percentage Gas Spend\n",
              "1              1118  ...              0.766845\n",
              "\n",
              "[1 rows x 5 columns]"
            ]
          },
          "metadata": {},
          "execution_count": 24
        }
      ]
    },
    {
      "cell_type": "markdown",
      "metadata": {
        "id": "dq7TN0NVLzlU"
      },
      "source": [
        "#  What Portion of Rewards are lost to Gas Costs?\n",
        "\n",
        "To see if users are making sound decisions when claiming rewards from the yveCRV vault, we will look at how much the gas costs are in relation to the amount claimed.  We have simplified the dataset by grouping into a number of categories - firstly, was the amount claimed less than the gas cost, and if not, what percentage of the claim transaction did the gas represent.  The results are summarised below - how many transactions were in each category of loss.  Here we can see that 200 claims have been made for yveCRV rewards where the claimed amount was *less* than the gas spent.  The user made a negative return from the transaction.  Similarly, there were 76 claims where the user lost between 50-100% of the claimed amount to gas costs, and so on for the graph.  The largest category appears to be the 1-5% range.  This is interesting - users often shop around to find the very best APR for their funds, but are prepared to throw away a significant percentage in transaction costs to get it."
      ]
    },
    {
      "cell_type": "code",
      "metadata": {
        "colab": {
          "base_uri": "https://localhost:8080/",
          "height": 511
        },
        "cellView": "form",
        "id": "vkAtRRTz2FHt",
        "outputId": "2ee0a27c-36f6-42f7-ad93-e9832fb1f4a2"
      },
      "source": [
        "#@title\n",
        "#hide_input\n",
        "#Plot transaction count by bucket\n",
        "df_p = %R roll_up_table\n",
        "fig = px.bar(df_p\n",
        "             , x = \"claim_lost_to_gas\"\n",
        "             , y = \"no_of_claims\"\n",
        "             , color = 'claim_lost_to_gas'\n",
        "             , labels=dict(claim_lost_to_gas=\"Claim Loss\", no_of_claims=\"No of Claims\")\n",
        "             , title= \"Count of Claims by Claim Loss to Gas Fees\"\n",
        "             , template=\"simple_white\", width=800, height=800/1.618\n",
        "             )\n",
        "fig.update_layout(showlegend=False)\n",
        "fig.update_yaxes(title_text='No of Claims')\n",
        "fig.update_xaxes(title_text=None)\n",
        "fig.show()"
      ],
      "execution_count": 7,
      "outputs": [
        {
          "output_type": "display_data",
          "data": {
            "text/html": [
              "<html>\n",
              "<head><meta charset=\"utf-8\" /></head>\n",
              "<body>\n",
              "    <div>            <script src=\"https://cdnjs.cloudflare.com/ajax/libs/mathjax/2.7.5/MathJax.js?config=TeX-AMS-MML_SVG\"></script><script type=\"text/javascript\">if (window.MathJax) {MathJax.Hub.Config({SVG: {font: \"STIX-Web\"}});}</script>                <script type=\"text/javascript\">window.PlotlyConfig = {MathJaxConfig: 'local'};</script>\n",
              "        <script src=\"https://cdn.plot.ly/plotly-2.4.2.min.js\"></script>                <div id=\"0ab82e56-045c-44f6-a46f-927a458a7386\" class=\"plotly-graph-div\" style=\"height:494.4375772558714px; width:800px;\"></div>            <script type=\"text/javascript\">                                    window.PLOTLYENV=window.PLOTLYENV || {};                                    if (document.getElementById(\"0ab82e56-045c-44f6-a46f-927a458a7386\")) {                    Plotly.newPlot(                        \"0ab82e56-045c-44f6-a46f-927a458a7386\",                        [{\"alignmentgroup\":\"True\",\"hovertemplate\":\"Claim Loss=%{x}<br>No of Claims=%{y}<extra></extra>\",\"legendgroup\":\"Negative Return\",\"marker\":{\"color\":\"#1F77B4\",\"pattern\":{\"shape\":\"\"}},\"name\":\"Negative Return\",\"offsetgroup\":\"Negative Return\",\"orientation\":\"v\",\"showlegend\":true,\"textposition\":\"auto\",\"type\":\"bar\",\"x\":[\"Negative Return\"],\"xaxis\":\"x\",\"y\":[200],\"yaxis\":\"y\"},{\"alignmentgroup\":\"True\",\"hovertemplate\":\"Claim Loss=%{x}<br>No of Claims=%{y}<extra></extra>\",\"legendgroup\":\"50-100% Loss\",\"marker\":{\"color\":\"#FF7F0E\",\"pattern\":{\"shape\":\"\"}},\"name\":\"50-100% Loss\",\"offsetgroup\":\"50-100% Loss\",\"orientation\":\"v\",\"showlegend\":true,\"textposition\":\"auto\",\"type\":\"bar\",\"x\":[\"50-100% Loss\"],\"xaxis\":\"x\",\"y\":[76],\"yaxis\":\"y\"},{\"alignmentgroup\":\"True\",\"hovertemplate\":\"Claim Loss=%{x}<br>No of Claims=%{y}<extra></extra>\",\"legendgroup\":\"20-50% Loss\",\"marker\":{\"color\":\"#2CA02C\",\"pattern\":{\"shape\":\"\"}},\"name\":\"20-50% Loss\",\"offsetgroup\":\"20-50% Loss\",\"orientation\":\"v\",\"showlegend\":true,\"textposition\":\"auto\",\"type\":\"bar\",\"x\":[\"20-50% Loss\"],\"xaxis\":\"x\",\"y\":[119],\"yaxis\":\"y\"},{\"alignmentgroup\":\"True\",\"hovertemplate\":\"Claim Loss=%{x}<br>No of Claims=%{y}<extra></extra>\",\"legendgroup\":\"10-20% Loss\",\"marker\":{\"color\":\"#D62728\",\"pattern\":{\"shape\":\"\"}},\"name\":\"10-20% Loss\",\"offsetgroup\":\"10-20% Loss\",\"orientation\":\"v\",\"showlegend\":true,\"textposition\":\"auto\",\"type\":\"bar\",\"x\":[\"10-20% Loss\"],\"xaxis\":\"x\",\"y\":[131],\"yaxis\":\"y\"},{\"alignmentgroup\":\"True\",\"hovertemplate\":\"Claim Loss=%{x}<br>No of Claims=%{y}<extra></extra>\",\"legendgroup\":\"5-10% Loss\",\"marker\":{\"color\":\"#9467BD\",\"pattern\":{\"shape\":\"\"}},\"name\":\"5-10% Loss\",\"offsetgroup\":\"5-10% Loss\",\"orientation\":\"v\",\"showlegend\":true,\"textposition\":\"auto\",\"type\":\"bar\",\"x\":[\"5-10% Loss\"],\"xaxis\":\"x\",\"y\":[129],\"yaxis\":\"y\"},{\"alignmentgroup\":\"True\",\"hovertemplate\":\"Claim Loss=%{x}<br>No of Claims=%{y}<extra></extra>\",\"legendgroup\":\"1-5% Loss\",\"marker\":{\"color\":\"#8C564B\",\"pattern\":{\"shape\":\"\"}},\"name\":\"1-5% Loss\",\"offsetgroup\":\"1-5% Loss\",\"orientation\":\"v\",\"showlegend\":true,\"textposition\":\"auto\",\"type\":\"bar\",\"x\":[\"1-5% Loss\"],\"xaxis\":\"x\",\"y\":[270],\"yaxis\":\"y\"},{\"alignmentgroup\":\"True\",\"hovertemplate\":\"Claim Loss=%{x}<br>No of Claims=%{y}<extra></extra>\",\"legendgroup\":\"< 1% Loss\",\"marker\":{\"color\":\"#E377C2\",\"pattern\":{\"shape\":\"\"}},\"name\":\"< 1% Loss\",\"offsetgroup\":\"< 1% Loss\",\"orientation\":\"v\",\"showlegend\":true,\"textposition\":\"auto\",\"type\":\"bar\",\"x\":[\"< 1% Loss\"],\"xaxis\":\"x\",\"y\":[193],\"yaxis\":\"y\"}],                        {\"barmode\":\"relative\",\"height\":494.4375772558714,\"legend\":{\"title\":{\"text\":\"Claim Loss\"},\"tracegroupgap\":0},\"showlegend\":false,\"template\":{\"data\":{\"bar\":[{\"error_x\":{\"color\":\"rgb(36,36,36)\"},\"error_y\":{\"color\":\"rgb(36,36,36)\"},\"marker\":{\"line\":{\"color\":\"white\",\"width\":0.5},\"pattern\":{\"fillmode\":\"overlay\",\"size\":10,\"solidity\":0.2}},\"type\":\"bar\"}],\"barpolar\":[{\"marker\":{\"line\":{\"color\":\"white\",\"width\":0.5},\"pattern\":{\"fillmode\":\"overlay\",\"size\":10,\"solidity\":0.2}},\"type\":\"barpolar\"}],\"carpet\":[{\"aaxis\":{\"endlinecolor\":\"rgb(36,36,36)\",\"gridcolor\":\"white\",\"linecolor\":\"white\",\"minorgridcolor\":\"white\",\"startlinecolor\":\"rgb(36,36,36)\"},\"baxis\":{\"endlinecolor\":\"rgb(36,36,36)\",\"gridcolor\":\"white\",\"linecolor\":\"white\",\"minorgridcolor\":\"white\",\"startlinecolor\":\"rgb(36,36,36)\"},\"type\":\"carpet\"}],\"choropleth\":[{\"colorbar\":{\"outlinewidth\":1,\"tickcolor\":\"rgb(36,36,36)\",\"ticks\":\"outside\"},\"type\":\"choropleth\"}],\"contour\":[{\"colorbar\":{\"outlinewidth\":1,\"tickcolor\":\"rgb(36,36,36)\",\"ticks\":\"outside\"},\"colorscale\":[[0.0,\"#440154\"],[0.1111111111111111,\"#482878\"],[0.2222222222222222,\"#3e4989\"],[0.3333333333333333,\"#31688e\"],[0.4444444444444444,\"#26828e\"],[0.5555555555555556,\"#1f9e89\"],[0.6666666666666666,\"#35b779\"],[0.7777777777777778,\"#6ece58\"],[0.8888888888888888,\"#b5de2b\"],[1.0,\"#fde725\"]],\"type\":\"contour\"}],\"contourcarpet\":[{\"colorbar\":{\"outlinewidth\":1,\"tickcolor\":\"rgb(36,36,36)\",\"ticks\":\"outside\"},\"type\":\"contourcarpet\"}],\"heatmap\":[{\"colorbar\":{\"outlinewidth\":1,\"tickcolor\":\"rgb(36,36,36)\",\"ticks\":\"outside\"},\"colorscale\":[[0.0,\"#440154\"],[0.1111111111111111,\"#482878\"],[0.2222222222222222,\"#3e4989\"],[0.3333333333333333,\"#31688e\"],[0.4444444444444444,\"#26828e\"],[0.5555555555555556,\"#1f9e89\"],[0.6666666666666666,\"#35b779\"],[0.7777777777777778,\"#6ece58\"],[0.8888888888888888,\"#b5de2b\"],[1.0,\"#fde725\"]],\"type\":\"heatmap\"}],\"heatmapgl\":[{\"colorbar\":{\"outlinewidth\":1,\"tickcolor\":\"rgb(36,36,36)\",\"ticks\":\"outside\"},\"colorscale\":[[0.0,\"#440154\"],[0.1111111111111111,\"#482878\"],[0.2222222222222222,\"#3e4989\"],[0.3333333333333333,\"#31688e\"],[0.4444444444444444,\"#26828e\"],[0.5555555555555556,\"#1f9e89\"],[0.6666666666666666,\"#35b779\"],[0.7777777777777778,\"#6ece58\"],[0.8888888888888888,\"#b5de2b\"],[1.0,\"#fde725\"]],\"type\":\"heatmapgl\"}],\"histogram\":[{\"marker\":{\"line\":{\"color\":\"white\",\"width\":0.6}},\"type\":\"histogram\"}],\"histogram2d\":[{\"colorbar\":{\"outlinewidth\":1,\"tickcolor\":\"rgb(36,36,36)\",\"ticks\":\"outside\"},\"colorscale\":[[0.0,\"#440154\"],[0.1111111111111111,\"#482878\"],[0.2222222222222222,\"#3e4989\"],[0.3333333333333333,\"#31688e\"],[0.4444444444444444,\"#26828e\"],[0.5555555555555556,\"#1f9e89\"],[0.6666666666666666,\"#35b779\"],[0.7777777777777778,\"#6ece58\"],[0.8888888888888888,\"#b5de2b\"],[1.0,\"#fde725\"]],\"type\":\"histogram2d\"}],\"histogram2dcontour\":[{\"colorbar\":{\"outlinewidth\":1,\"tickcolor\":\"rgb(36,36,36)\",\"ticks\":\"outside\"},\"colorscale\":[[0.0,\"#440154\"],[0.1111111111111111,\"#482878\"],[0.2222222222222222,\"#3e4989\"],[0.3333333333333333,\"#31688e\"],[0.4444444444444444,\"#26828e\"],[0.5555555555555556,\"#1f9e89\"],[0.6666666666666666,\"#35b779\"],[0.7777777777777778,\"#6ece58\"],[0.8888888888888888,\"#b5de2b\"],[1.0,\"#fde725\"]],\"type\":\"histogram2dcontour\"}],\"mesh3d\":[{\"colorbar\":{\"outlinewidth\":1,\"tickcolor\":\"rgb(36,36,36)\",\"ticks\":\"outside\"},\"type\":\"mesh3d\"}],\"parcoords\":[{\"line\":{\"colorbar\":{\"outlinewidth\":1,\"tickcolor\":\"rgb(36,36,36)\",\"ticks\":\"outside\"}},\"type\":\"parcoords\"}],\"pie\":[{\"automargin\":true,\"type\":\"pie\"}],\"scatter\":[{\"marker\":{\"colorbar\":{\"outlinewidth\":1,\"tickcolor\":\"rgb(36,36,36)\",\"ticks\":\"outside\"}},\"type\":\"scatter\"}],\"scatter3d\":[{\"line\":{\"colorbar\":{\"outlinewidth\":1,\"tickcolor\":\"rgb(36,36,36)\",\"ticks\":\"outside\"}},\"marker\":{\"colorbar\":{\"outlinewidth\":1,\"tickcolor\":\"rgb(36,36,36)\",\"ticks\":\"outside\"}},\"type\":\"scatter3d\"}],\"scattercarpet\":[{\"marker\":{\"colorbar\":{\"outlinewidth\":1,\"tickcolor\":\"rgb(36,36,36)\",\"ticks\":\"outside\"}},\"type\":\"scattercarpet\"}],\"scattergeo\":[{\"marker\":{\"colorbar\":{\"outlinewidth\":1,\"tickcolor\":\"rgb(36,36,36)\",\"ticks\":\"outside\"}},\"type\":\"scattergeo\"}],\"scattergl\":[{\"marker\":{\"colorbar\":{\"outlinewidth\":1,\"tickcolor\":\"rgb(36,36,36)\",\"ticks\":\"outside\"}},\"type\":\"scattergl\"}],\"scattermapbox\":[{\"marker\":{\"colorbar\":{\"outlinewidth\":1,\"tickcolor\":\"rgb(36,36,36)\",\"ticks\":\"outside\"}},\"type\":\"scattermapbox\"}],\"scatterpolar\":[{\"marker\":{\"colorbar\":{\"outlinewidth\":1,\"tickcolor\":\"rgb(36,36,36)\",\"ticks\":\"outside\"}},\"type\":\"scatterpolar\"}],\"scatterpolargl\":[{\"marker\":{\"colorbar\":{\"outlinewidth\":1,\"tickcolor\":\"rgb(36,36,36)\",\"ticks\":\"outside\"}},\"type\":\"scatterpolargl\"}],\"scatterternary\":[{\"marker\":{\"colorbar\":{\"outlinewidth\":1,\"tickcolor\":\"rgb(36,36,36)\",\"ticks\":\"outside\"}},\"type\":\"scatterternary\"}],\"surface\":[{\"colorbar\":{\"outlinewidth\":1,\"tickcolor\":\"rgb(36,36,36)\",\"ticks\":\"outside\"},\"colorscale\":[[0.0,\"#440154\"],[0.1111111111111111,\"#482878\"],[0.2222222222222222,\"#3e4989\"],[0.3333333333333333,\"#31688e\"],[0.4444444444444444,\"#26828e\"],[0.5555555555555556,\"#1f9e89\"],[0.6666666666666666,\"#35b779\"],[0.7777777777777778,\"#6ece58\"],[0.8888888888888888,\"#b5de2b\"],[1.0,\"#fde725\"]],\"type\":\"surface\"}],\"table\":[{\"cells\":{\"fill\":{\"color\":\"rgb(237,237,237)\"},\"line\":{\"color\":\"white\"}},\"header\":{\"fill\":{\"color\":\"rgb(217,217,217)\"},\"line\":{\"color\":\"white\"}},\"type\":\"table\"}]},\"layout\":{\"annotationdefaults\":{\"arrowhead\":0,\"arrowwidth\":1},\"autotypenumbers\":\"strict\",\"coloraxis\":{\"colorbar\":{\"outlinewidth\":1,\"tickcolor\":\"rgb(36,36,36)\",\"ticks\":\"outside\"}},\"colorscale\":{\"diverging\":[[0.0,\"rgb(103,0,31)\"],[0.1,\"rgb(178,24,43)\"],[0.2,\"rgb(214,96,77)\"],[0.3,\"rgb(244,165,130)\"],[0.4,\"rgb(253,219,199)\"],[0.5,\"rgb(247,247,247)\"],[0.6,\"rgb(209,229,240)\"],[0.7,\"rgb(146,197,222)\"],[0.8,\"rgb(67,147,195)\"],[0.9,\"rgb(33,102,172)\"],[1.0,\"rgb(5,48,97)\"]],\"sequential\":[[0.0,\"#440154\"],[0.1111111111111111,\"#482878\"],[0.2222222222222222,\"#3e4989\"],[0.3333333333333333,\"#31688e\"],[0.4444444444444444,\"#26828e\"],[0.5555555555555556,\"#1f9e89\"],[0.6666666666666666,\"#35b779\"],[0.7777777777777778,\"#6ece58\"],[0.8888888888888888,\"#b5de2b\"],[1.0,\"#fde725\"]],\"sequentialminus\":[[0.0,\"#440154\"],[0.1111111111111111,\"#482878\"],[0.2222222222222222,\"#3e4989\"],[0.3333333333333333,\"#31688e\"],[0.4444444444444444,\"#26828e\"],[0.5555555555555556,\"#1f9e89\"],[0.6666666666666666,\"#35b779\"],[0.7777777777777778,\"#6ece58\"],[0.8888888888888888,\"#b5de2b\"],[1.0,\"#fde725\"]]},\"colorway\":[\"#1F77B4\",\"#FF7F0E\",\"#2CA02C\",\"#D62728\",\"#9467BD\",\"#8C564B\",\"#E377C2\",\"#7F7F7F\",\"#BCBD22\",\"#17BECF\"],\"font\":{\"color\":\"rgb(36,36,36)\"},\"geo\":{\"bgcolor\":\"white\",\"lakecolor\":\"white\",\"landcolor\":\"white\",\"showlakes\":true,\"showland\":true,\"subunitcolor\":\"white\"},\"hoverlabel\":{\"align\":\"left\"},\"hovermode\":\"closest\",\"mapbox\":{\"style\":\"light\"},\"paper_bgcolor\":\"white\",\"plot_bgcolor\":\"white\",\"polar\":{\"angularaxis\":{\"gridcolor\":\"rgb(232,232,232)\",\"linecolor\":\"rgb(36,36,36)\",\"showgrid\":false,\"showline\":true,\"ticks\":\"outside\"},\"bgcolor\":\"white\",\"radialaxis\":{\"gridcolor\":\"rgb(232,232,232)\",\"linecolor\":\"rgb(36,36,36)\",\"showgrid\":false,\"showline\":true,\"ticks\":\"outside\"}},\"scene\":{\"xaxis\":{\"backgroundcolor\":\"white\",\"gridcolor\":\"rgb(232,232,232)\",\"gridwidth\":2,\"linecolor\":\"rgb(36,36,36)\",\"showbackground\":true,\"showgrid\":false,\"showline\":true,\"ticks\":\"outside\",\"zeroline\":false,\"zerolinecolor\":\"rgb(36,36,36)\"},\"yaxis\":{\"backgroundcolor\":\"white\",\"gridcolor\":\"rgb(232,232,232)\",\"gridwidth\":2,\"linecolor\":\"rgb(36,36,36)\",\"showbackground\":true,\"showgrid\":false,\"showline\":true,\"ticks\":\"outside\",\"zeroline\":false,\"zerolinecolor\":\"rgb(36,36,36)\"},\"zaxis\":{\"backgroundcolor\":\"white\",\"gridcolor\":\"rgb(232,232,232)\",\"gridwidth\":2,\"linecolor\":\"rgb(36,36,36)\",\"showbackground\":true,\"showgrid\":false,\"showline\":true,\"ticks\":\"outside\",\"zeroline\":false,\"zerolinecolor\":\"rgb(36,36,36)\"}},\"shapedefaults\":{\"fillcolor\":\"black\",\"line\":{\"width\":0},\"opacity\":0.3},\"ternary\":{\"aaxis\":{\"gridcolor\":\"rgb(232,232,232)\",\"linecolor\":\"rgb(36,36,36)\",\"showgrid\":false,\"showline\":true,\"ticks\":\"outside\"},\"baxis\":{\"gridcolor\":\"rgb(232,232,232)\",\"linecolor\":\"rgb(36,36,36)\",\"showgrid\":false,\"showline\":true,\"ticks\":\"outside\"},\"bgcolor\":\"white\",\"caxis\":{\"gridcolor\":\"rgb(232,232,232)\",\"linecolor\":\"rgb(36,36,36)\",\"showgrid\":false,\"showline\":true,\"ticks\":\"outside\"}},\"title\":{\"x\":0.05},\"xaxis\":{\"automargin\":true,\"gridcolor\":\"rgb(232,232,232)\",\"linecolor\":\"rgb(36,36,36)\",\"showgrid\":false,\"showline\":true,\"ticks\":\"outside\",\"title\":{\"standoff\":15},\"zeroline\":false,\"zerolinecolor\":\"rgb(36,36,36)\"},\"yaxis\":{\"automargin\":true,\"gridcolor\":\"rgb(232,232,232)\",\"linecolor\":\"rgb(36,36,36)\",\"showgrid\":false,\"showline\":true,\"ticks\":\"outside\",\"title\":{\"standoff\":15},\"zeroline\":false,\"zerolinecolor\":\"rgb(36,36,36)\"}}},\"title\":{\"text\":\"Count of Claims by Claim Loss to Gas Fees\"},\"width\":800,\"xaxis\":{\"anchor\":\"y\",\"categoryarray\":[\"Negative Return\",\"50-100% Loss\",\"20-50% Loss\",\"10-20% Loss\",\"5-10% Loss\",\"1-5% Loss\",\"< 1% Loss\"],\"categoryorder\":\"array\",\"domain\":[0.0,1.0],\"title\":{}},\"yaxis\":{\"anchor\":\"x\",\"domain\":[0.0,1.0],\"title\":{\"text\":\"No of Claims\"}}},                        {\"responsive\": true}                    ).then(function(){\n",
              "                            \n",
              "var gd = document.getElementById('0ab82e56-045c-44f6-a46f-927a458a7386');\n",
              "var x = new MutationObserver(function (mutations, observer) {{\n",
              "        var display = window.getComputedStyle(gd).display;\n",
              "        if (!display || display === 'none') {{\n",
              "            console.log([gd, 'removed!']);\n",
              "            Plotly.purge(gd);\n",
              "            observer.disconnect();\n",
              "        }}\n",
              "}});\n",
              "\n",
              "// Listen for the removal of the full notebook cells\n",
              "var notebookContainer = gd.closest('#notebook-container');\n",
              "if (notebookContainer) {{\n",
              "    x.observe(notebookContainer, {childList: true});\n",
              "}}\n",
              "\n",
              "// Listen for the clearing of the current output cell\n",
              "var outputEl = gd.closest('.output');\n",
              "if (outputEl) {{\n",
              "    x.observe(outputEl, {childList: true});\n",
              "}}\n",
              "\n",
              "                        })                };                            </script>        </div>\n",
              "</body>\n",
              "</html>"
            ]
          },
          "metadata": {}
        }
      ]
    },
    {
      "cell_type": "markdown",
      "metadata": {
        "id": "KsTCAtR2NI7z"
      },
      "source": [
        "The graph below presents the same data as above, but as a cumulative percentage.  From this we can deduce:\n",
        "- 18% of claim transactions were negative in value\n",
        "- 25% of claim transactions had a greater than 50% loss\n",
        "- 59% of claim transactions lost more than 5% to gas\n",
        "- Only 17% of transactions had a loss less than 1%\n",
        "\n",
        "It appears, on balance, that users are not making sound decisions on reward claims from the yveCRV vault.  Users face a choice when claiming smaller rewards.  Either:  \n",
        "- Take the money now & pay a high portion in fees\n",
        "- Try to claim in a time with lower gas costs\n",
        "- Wait a few more weeks until rewards have accrued to make the gas cost less significant\n",
        "\n",
        "It appears from the data that the opportunity cost for users of leaving the rewards unclaimed in yveCRV is greater than having the funds available right away.  For the users losing large percentages, or more than the total reward amount, perhaps there is a knowledge gap in the way gas fees work on Ethereum."
      ]
    },
    {
      "cell_type": "code",
      "metadata": {
        "colab": {
          "base_uri": "https://localhost:8080/",
          "height": 511
        },
        "cellView": "form",
        "id": "z4PB2avz2E9g",
        "outputId": "d7453e17-9fbe-4113-ca3e-cfcf9b1f9725"
      },
      "source": [
        "#@title\n",
        "#hide_input\n",
        "#Plot cumulative transaction count by bucket\n",
        "df_p = %R roll_up_table\n",
        "fig = px.bar(df_p\n",
        "             , x = \"claim_lost_to_gas\"\n",
        "             , y = \"cumu_claims_percent\"\n",
        "             , color = 'claim_lost_to_gas'\n",
        "             , labels=dict(claim_lost_to_gas=\"Claim Loss\", cumu_claims_percent=\"Cumulative % of Claims\")\n",
        "             , title= \"Cumulative % of Claims by Claim Loss to Gas Fees\"\n",
        "             , template=\"simple_white\", width=800, height=800/1.618\n",
        "             )\n",
        "fig.update_layout(showlegend=False)\n",
        "fig.update_yaxes(title_text='Cumulative % of Claims')\n",
        "fig.update_xaxes(title_text=None)\n",
        "fig.show()"
      ],
      "execution_count": 8,
      "outputs": [
        {
          "output_type": "display_data",
          "data": {
            "text/html": [
              "<html>\n",
              "<head><meta charset=\"utf-8\" /></head>\n",
              "<body>\n",
              "    <div>            <script src=\"https://cdnjs.cloudflare.com/ajax/libs/mathjax/2.7.5/MathJax.js?config=TeX-AMS-MML_SVG\"></script><script type=\"text/javascript\">if (window.MathJax) {MathJax.Hub.Config({SVG: {font: \"STIX-Web\"}});}</script>                <script type=\"text/javascript\">window.PlotlyConfig = {MathJaxConfig: 'local'};</script>\n",
              "        <script src=\"https://cdn.plot.ly/plotly-2.4.2.min.js\"></script>                <div id=\"184abf91-b936-42cd-aed7-cf79bfa5b1ee\" class=\"plotly-graph-div\" style=\"height:494.4375772558714px; width:800px;\"></div>            <script type=\"text/javascript\">                                    window.PLOTLYENV=window.PLOTLYENV || {};                                    if (document.getElementById(\"184abf91-b936-42cd-aed7-cf79bfa5b1ee\")) {                    Plotly.newPlot(                        \"184abf91-b936-42cd-aed7-cf79bfa5b1ee\",                        [{\"alignmentgroup\":\"True\",\"hovertemplate\":\"Claim Loss=%{x}<br>Cumulative % of Claims=%{y}<extra></extra>\",\"legendgroup\":\"Negative Return\",\"marker\":{\"color\":\"#1F77B4\",\"pattern\":{\"shape\":\"\"}},\"name\":\"Negative Return\",\"offsetgroup\":\"Negative Return\",\"orientation\":\"v\",\"showlegend\":true,\"textposition\":\"auto\",\"type\":\"bar\",\"x\":[\"Negative Return\"],\"xaxis\":\"x\",\"y\":[17.88908765652952],\"yaxis\":\"y\"},{\"alignmentgroup\":\"True\",\"hovertemplate\":\"Claim Loss=%{x}<br>Cumulative % of Claims=%{y}<extra></extra>\",\"legendgroup\":\"50-100% Loss\",\"marker\":{\"color\":\"#FF7F0E\",\"pattern\":{\"shape\":\"\"}},\"name\":\"50-100% Loss\",\"offsetgroup\":\"50-100% Loss\",\"orientation\":\"v\",\"showlegend\":true,\"textposition\":\"auto\",\"type\":\"bar\",\"x\":[\"50-100% Loss\"],\"xaxis\":\"x\",\"y\":[24.686940966010734],\"yaxis\":\"y\"},{\"alignmentgroup\":\"True\",\"hovertemplate\":\"Claim Loss=%{x}<br>Cumulative % of Claims=%{y}<extra></extra>\",\"legendgroup\":\"20-50% Loss\",\"marker\":{\"color\":\"#2CA02C\",\"pattern\":{\"shape\":\"\"}},\"name\":\"20-50% Loss\",\"offsetgroup\":\"20-50% Loss\",\"orientation\":\"v\",\"showlegend\":true,\"textposition\":\"auto\",\"type\":\"bar\",\"x\":[\"20-50% Loss\"],\"xaxis\":\"x\",\"y\":[35.3309481216458],\"yaxis\":\"y\"},{\"alignmentgroup\":\"True\",\"hovertemplate\":\"Claim Loss=%{x}<br>Cumulative % of Claims=%{y}<extra></extra>\",\"legendgroup\":\"10-20% Loss\",\"marker\":{\"color\":\"#D62728\",\"pattern\":{\"shape\":\"\"}},\"name\":\"10-20% Loss\",\"offsetgroup\":\"10-20% Loss\",\"orientation\":\"v\",\"showlegend\":true,\"textposition\":\"auto\",\"type\":\"bar\",\"x\":[\"10-20% Loss\"],\"xaxis\":\"x\",\"y\":[47.04830053667263],\"yaxis\":\"y\"},{\"alignmentgroup\":\"True\",\"hovertemplate\":\"Claim Loss=%{x}<br>Cumulative % of Claims=%{y}<extra></extra>\",\"legendgroup\":\"5-10% Loss\",\"marker\":{\"color\":\"#9467BD\",\"pattern\":{\"shape\":\"\"}},\"name\":\"5-10% Loss\",\"offsetgroup\":\"5-10% Loss\",\"orientation\":\"v\",\"showlegend\":true,\"textposition\":\"auto\",\"type\":\"bar\",\"x\":[\"5-10% Loss\"],\"xaxis\":\"x\",\"y\":[58.58676207513417],\"yaxis\":\"y\"},{\"alignmentgroup\":\"True\",\"hovertemplate\":\"Claim Loss=%{x}<br>Cumulative % of Claims=%{y}<extra></extra>\",\"legendgroup\":\"1-5% Loss\",\"marker\":{\"color\":\"#8C564B\",\"pattern\":{\"shape\":\"\"}},\"name\":\"1-5% Loss\",\"offsetgroup\":\"1-5% Loss\",\"orientation\":\"v\",\"showlegend\":true,\"textposition\":\"auto\",\"type\":\"bar\",\"x\":[\"1-5% Loss\"],\"xaxis\":\"x\",\"y\":[82.73703041144901],\"yaxis\":\"y\"},{\"alignmentgroup\":\"True\",\"hovertemplate\":\"Claim Loss=%{x}<br>Cumulative % of Claims=%{y}<extra></extra>\",\"legendgroup\":\"< 1% Loss\",\"marker\":{\"color\":\"#E377C2\",\"pattern\":{\"shape\":\"\"}},\"name\":\"< 1% Loss\",\"offsetgroup\":\"< 1% Loss\",\"orientation\":\"v\",\"showlegend\":true,\"textposition\":\"auto\",\"type\":\"bar\",\"x\":[\"< 1% Loss\"],\"xaxis\":\"x\",\"y\":[100.0],\"yaxis\":\"y\"}],                        {\"barmode\":\"relative\",\"height\":494.4375772558714,\"legend\":{\"title\":{\"text\":\"Claim Loss\"},\"tracegroupgap\":0},\"showlegend\":false,\"template\":{\"data\":{\"bar\":[{\"error_x\":{\"color\":\"rgb(36,36,36)\"},\"error_y\":{\"color\":\"rgb(36,36,36)\"},\"marker\":{\"line\":{\"color\":\"white\",\"width\":0.5},\"pattern\":{\"fillmode\":\"overlay\",\"size\":10,\"solidity\":0.2}},\"type\":\"bar\"}],\"barpolar\":[{\"marker\":{\"line\":{\"color\":\"white\",\"width\":0.5},\"pattern\":{\"fillmode\":\"overlay\",\"size\":10,\"solidity\":0.2}},\"type\":\"barpolar\"}],\"carpet\":[{\"aaxis\":{\"endlinecolor\":\"rgb(36,36,36)\",\"gridcolor\":\"white\",\"linecolor\":\"white\",\"minorgridcolor\":\"white\",\"startlinecolor\":\"rgb(36,36,36)\"},\"baxis\":{\"endlinecolor\":\"rgb(36,36,36)\",\"gridcolor\":\"white\",\"linecolor\":\"white\",\"minorgridcolor\":\"white\",\"startlinecolor\":\"rgb(36,36,36)\"},\"type\":\"carpet\"}],\"choropleth\":[{\"colorbar\":{\"outlinewidth\":1,\"tickcolor\":\"rgb(36,36,36)\",\"ticks\":\"outside\"},\"type\":\"choropleth\"}],\"contour\":[{\"colorbar\":{\"outlinewidth\":1,\"tickcolor\":\"rgb(36,36,36)\",\"ticks\":\"outside\"},\"colorscale\":[[0.0,\"#440154\"],[0.1111111111111111,\"#482878\"],[0.2222222222222222,\"#3e4989\"],[0.3333333333333333,\"#31688e\"],[0.4444444444444444,\"#26828e\"],[0.5555555555555556,\"#1f9e89\"],[0.6666666666666666,\"#35b779\"],[0.7777777777777778,\"#6ece58\"],[0.8888888888888888,\"#b5de2b\"],[1.0,\"#fde725\"]],\"type\":\"contour\"}],\"contourcarpet\":[{\"colorbar\":{\"outlinewidth\":1,\"tickcolor\":\"rgb(36,36,36)\",\"ticks\":\"outside\"},\"type\":\"contourcarpet\"}],\"heatmap\":[{\"colorbar\":{\"outlinewidth\":1,\"tickcolor\":\"rgb(36,36,36)\",\"ticks\":\"outside\"},\"colorscale\":[[0.0,\"#440154\"],[0.1111111111111111,\"#482878\"],[0.2222222222222222,\"#3e4989\"],[0.3333333333333333,\"#31688e\"],[0.4444444444444444,\"#26828e\"],[0.5555555555555556,\"#1f9e89\"],[0.6666666666666666,\"#35b779\"],[0.7777777777777778,\"#6ece58\"],[0.8888888888888888,\"#b5de2b\"],[1.0,\"#fde725\"]],\"type\":\"heatmap\"}],\"heatmapgl\":[{\"colorbar\":{\"outlinewidth\":1,\"tickcolor\":\"rgb(36,36,36)\",\"ticks\":\"outside\"},\"colorscale\":[[0.0,\"#440154\"],[0.1111111111111111,\"#482878\"],[0.2222222222222222,\"#3e4989\"],[0.3333333333333333,\"#31688e\"],[0.4444444444444444,\"#26828e\"],[0.5555555555555556,\"#1f9e89\"],[0.6666666666666666,\"#35b779\"],[0.7777777777777778,\"#6ece58\"],[0.8888888888888888,\"#b5de2b\"],[1.0,\"#fde725\"]],\"type\":\"heatmapgl\"}],\"histogram\":[{\"marker\":{\"line\":{\"color\":\"white\",\"width\":0.6}},\"type\":\"histogram\"}],\"histogram2d\":[{\"colorbar\":{\"outlinewidth\":1,\"tickcolor\":\"rgb(36,36,36)\",\"ticks\":\"outside\"},\"colorscale\":[[0.0,\"#440154\"],[0.1111111111111111,\"#482878\"],[0.2222222222222222,\"#3e4989\"],[0.3333333333333333,\"#31688e\"],[0.4444444444444444,\"#26828e\"],[0.5555555555555556,\"#1f9e89\"],[0.6666666666666666,\"#35b779\"],[0.7777777777777778,\"#6ece58\"],[0.8888888888888888,\"#b5de2b\"],[1.0,\"#fde725\"]],\"type\":\"histogram2d\"}],\"histogram2dcontour\":[{\"colorbar\":{\"outlinewidth\":1,\"tickcolor\":\"rgb(36,36,36)\",\"ticks\":\"outside\"},\"colorscale\":[[0.0,\"#440154\"],[0.1111111111111111,\"#482878\"],[0.2222222222222222,\"#3e4989\"],[0.3333333333333333,\"#31688e\"],[0.4444444444444444,\"#26828e\"],[0.5555555555555556,\"#1f9e89\"],[0.6666666666666666,\"#35b779\"],[0.7777777777777778,\"#6ece58\"],[0.8888888888888888,\"#b5de2b\"],[1.0,\"#fde725\"]],\"type\":\"histogram2dcontour\"}],\"mesh3d\":[{\"colorbar\":{\"outlinewidth\":1,\"tickcolor\":\"rgb(36,36,36)\",\"ticks\":\"outside\"},\"type\":\"mesh3d\"}],\"parcoords\":[{\"line\":{\"colorbar\":{\"outlinewidth\":1,\"tickcolor\":\"rgb(36,36,36)\",\"ticks\":\"outside\"}},\"type\":\"parcoords\"}],\"pie\":[{\"automargin\":true,\"type\":\"pie\"}],\"scatter\":[{\"marker\":{\"colorbar\":{\"outlinewidth\":1,\"tickcolor\":\"rgb(36,36,36)\",\"ticks\":\"outside\"}},\"type\":\"scatter\"}],\"scatter3d\":[{\"line\":{\"colorbar\":{\"outlinewidth\":1,\"tickcolor\":\"rgb(36,36,36)\",\"ticks\":\"outside\"}},\"marker\":{\"colorbar\":{\"outlinewidth\":1,\"tickcolor\":\"rgb(36,36,36)\",\"ticks\":\"outside\"}},\"type\":\"scatter3d\"}],\"scattercarpet\":[{\"marker\":{\"colorbar\":{\"outlinewidth\":1,\"tickcolor\":\"rgb(36,36,36)\",\"ticks\":\"outside\"}},\"type\":\"scattercarpet\"}],\"scattergeo\":[{\"marker\":{\"colorbar\":{\"outlinewidth\":1,\"tickcolor\":\"rgb(36,36,36)\",\"ticks\":\"outside\"}},\"type\":\"scattergeo\"}],\"scattergl\":[{\"marker\":{\"colorbar\":{\"outlinewidth\":1,\"tickcolor\":\"rgb(36,36,36)\",\"ticks\":\"outside\"}},\"type\":\"scattergl\"}],\"scattermapbox\":[{\"marker\":{\"colorbar\":{\"outlinewidth\":1,\"tickcolor\":\"rgb(36,36,36)\",\"ticks\":\"outside\"}},\"type\":\"scattermapbox\"}],\"scatterpolar\":[{\"marker\":{\"colorbar\":{\"outlinewidth\":1,\"tickcolor\":\"rgb(36,36,36)\",\"ticks\":\"outside\"}},\"type\":\"scatterpolar\"}],\"scatterpolargl\":[{\"marker\":{\"colorbar\":{\"outlinewidth\":1,\"tickcolor\":\"rgb(36,36,36)\",\"ticks\":\"outside\"}},\"type\":\"scatterpolargl\"}],\"scatterternary\":[{\"marker\":{\"colorbar\":{\"outlinewidth\":1,\"tickcolor\":\"rgb(36,36,36)\",\"ticks\":\"outside\"}},\"type\":\"scatterternary\"}],\"surface\":[{\"colorbar\":{\"outlinewidth\":1,\"tickcolor\":\"rgb(36,36,36)\",\"ticks\":\"outside\"},\"colorscale\":[[0.0,\"#440154\"],[0.1111111111111111,\"#482878\"],[0.2222222222222222,\"#3e4989\"],[0.3333333333333333,\"#31688e\"],[0.4444444444444444,\"#26828e\"],[0.5555555555555556,\"#1f9e89\"],[0.6666666666666666,\"#35b779\"],[0.7777777777777778,\"#6ece58\"],[0.8888888888888888,\"#b5de2b\"],[1.0,\"#fde725\"]],\"type\":\"surface\"}],\"table\":[{\"cells\":{\"fill\":{\"color\":\"rgb(237,237,237)\"},\"line\":{\"color\":\"white\"}},\"header\":{\"fill\":{\"color\":\"rgb(217,217,217)\"},\"line\":{\"color\":\"white\"}},\"type\":\"table\"}]},\"layout\":{\"annotationdefaults\":{\"arrowhead\":0,\"arrowwidth\":1},\"autotypenumbers\":\"strict\",\"coloraxis\":{\"colorbar\":{\"outlinewidth\":1,\"tickcolor\":\"rgb(36,36,36)\",\"ticks\":\"outside\"}},\"colorscale\":{\"diverging\":[[0.0,\"rgb(103,0,31)\"],[0.1,\"rgb(178,24,43)\"],[0.2,\"rgb(214,96,77)\"],[0.3,\"rgb(244,165,130)\"],[0.4,\"rgb(253,219,199)\"],[0.5,\"rgb(247,247,247)\"],[0.6,\"rgb(209,229,240)\"],[0.7,\"rgb(146,197,222)\"],[0.8,\"rgb(67,147,195)\"],[0.9,\"rgb(33,102,172)\"],[1.0,\"rgb(5,48,97)\"]],\"sequential\":[[0.0,\"#440154\"],[0.1111111111111111,\"#482878\"],[0.2222222222222222,\"#3e4989\"],[0.3333333333333333,\"#31688e\"],[0.4444444444444444,\"#26828e\"],[0.5555555555555556,\"#1f9e89\"],[0.6666666666666666,\"#35b779\"],[0.7777777777777778,\"#6ece58\"],[0.8888888888888888,\"#b5de2b\"],[1.0,\"#fde725\"]],\"sequentialminus\":[[0.0,\"#440154\"],[0.1111111111111111,\"#482878\"],[0.2222222222222222,\"#3e4989\"],[0.3333333333333333,\"#31688e\"],[0.4444444444444444,\"#26828e\"],[0.5555555555555556,\"#1f9e89\"],[0.6666666666666666,\"#35b779\"],[0.7777777777777778,\"#6ece58\"],[0.8888888888888888,\"#b5de2b\"],[1.0,\"#fde725\"]]},\"colorway\":[\"#1F77B4\",\"#FF7F0E\",\"#2CA02C\",\"#D62728\",\"#9467BD\",\"#8C564B\",\"#E377C2\",\"#7F7F7F\",\"#BCBD22\",\"#17BECF\"],\"font\":{\"color\":\"rgb(36,36,36)\"},\"geo\":{\"bgcolor\":\"white\",\"lakecolor\":\"white\",\"landcolor\":\"white\",\"showlakes\":true,\"showland\":true,\"subunitcolor\":\"white\"},\"hoverlabel\":{\"align\":\"left\"},\"hovermode\":\"closest\",\"mapbox\":{\"style\":\"light\"},\"paper_bgcolor\":\"white\",\"plot_bgcolor\":\"white\",\"polar\":{\"angularaxis\":{\"gridcolor\":\"rgb(232,232,232)\",\"linecolor\":\"rgb(36,36,36)\",\"showgrid\":false,\"showline\":true,\"ticks\":\"outside\"},\"bgcolor\":\"white\",\"radialaxis\":{\"gridcolor\":\"rgb(232,232,232)\",\"linecolor\":\"rgb(36,36,36)\",\"showgrid\":false,\"showline\":true,\"ticks\":\"outside\"}},\"scene\":{\"xaxis\":{\"backgroundcolor\":\"white\",\"gridcolor\":\"rgb(232,232,232)\",\"gridwidth\":2,\"linecolor\":\"rgb(36,36,36)\",\"showbackground\":true,\"showgrid\":false,\"showline\":true,\"ticks\":\"outside\",\"zeroline\":false,\"zerolinecolor\":\"rgb(36,36,36)\"},\"yaxis\":{\"backgroundcolor\":\"white\",\"gridcolor\":\"rgb(232,232,232)\",\"gridwidth\":2,\"linecolor\":\"rgb(36,36,36)\",\"showbackground\":true,\"showgrid\":false,\"showline\":true,\"ticks\":\"outside\",\"zeroline\":false,\"zerolinecolor\":\"rgb(36,36,36)\"},\"zaxis\":{\"backgroundcolor\":\"white\",\"gridcolor\":\"rgb(232,232,232)\",\"gridwidth\":2,\"linecolor\":\"rgb(36,36,36)\",\"showbackground\":true,\"showgrid\":false,\"showline\":true,\"ticks\":\"outside\",\"zeroline\":false,\"zerolinecolor\":\"rgb(36,36,36)\"}},\"shapedefaults\":{\"fillcolor\":\"black\",\"line\":{\"width\":0},\"opacity\":0.3},\"ternary\":{\"aaxis\":{\"gridcolor\":\"rgb(232,232,232)\",\"linecolor\":\"rgb(36,36,36)\",\"showgrid\":false,\"showline\":true,\"ticks\":\"outside\"},\"baxis\":{\"gridcolor\":\"rgb(232,232,232)\",\"linecolor\":\"rgb(36,36,36)\",\"showgrid\":false,\"showline\":true,\"ticks\":\"outside\"},\"bgcolor\":\"white\",\"caxis\":{\"gridcolor\":\"rgb(232,232,232)\",\"linecolor\":\"rgb(36,36,36)\",\"showgrid\":false,\"showline\":true,\"ticks\":\"outside\"}},\"title\":{\"x\":0.05},\"xaxis\":{\"automargin\":true,\"gridcolor\":\"rgb(232,232,232)\",\"linecolor\":\"rgb(36,36,36)\",\"showgrid\":false,\"showline\":true,\"ticks\":\"outside\",\"title\":{\"standoff\":15},\"zeroline\":false,\"zerolinecolor\":\"rgb(36,36,36)\"},\"yaxis\":{\"automargin\":true,\"gridcolor\":\"rgb(232,232,232)\",\"linecolor\":\"rgb(36,36,36)\",\"showgrid\":false,\"showline\":true,\"ticks\":\"outside\",\"title\":{\"standoff\":15},\"zeroline\":false,\"zerolinecolor\":\"rgb(36,36,36)\"}}},\"title\":{\"text\":\"Cumulative % of Claims by Claim Loss to Gas Fees\"},\"width\":800,\"xaxis\":{\"anchor\":\"y\",\"categoryarray\":[\"Negative Return\",\"50-100% Loss\",\"20-50% Loss\",\"10-20% Loss\",\"5-10% Loss\",\"1-5% Loss\",\"< 1% Loss\"],\"categoryorder\":\"array\",\"domain\":[0.0,1.0],\"title\":{}},\"yaxis\":{\"anchor\":\"x\",\"domain\":[0.0,1.0],\"title\":{\"text\":\"Cumulative % of Claims\"}}},                        {\"responsive\": true}                    ).then(function(){\n",
              "                            \n",
              "var gd = document.getElementById('184abf91-b936-42cd-aed7-cf79bfa5b1ee');\n",
              "var x = new MutationObserver(function (mutations, observer) {{\n",
              "        var display = window.getComputedStyle(gd).display;\n",
              "        if (!display || display === 'none') {{\n",
              "            console.log([gd, 'removed!']);\n",
              "            Plotly.purge(gd);\n",
              "            observer.disconnect();\n",
              "        }}\n",
              "}});\n",
              "\n",
              "// Listen for the removal of the full notebook cells\n",
              "var notebookContainer = gd.closest('#notebook-container');\n",
              "if (notebookContainer) {{\n",
              "    x.observe(notebookContainer, {childList: true});\n",
              "}}\n",
              "\n",
              "// Listen for the clearing of the current output cell\n",
              "var outputEl = gd.closest('.output');\n",
              "if (outputEl) {{\n",
              "    x.observe(outputEl, {childList: true});\n",
              "}}\n",
              "\n",
              "                        })                };                            </script>        </div>\n",
              "</body>\n",
              "</html>"
            ]
          },
          "metadata": {}
        }
      ]
    },
    {
      "cell_type": "markdown",
      "metadata": {
        "id": "IJkk8NvNO8gl"
      },
      "source": [
        "The following table shows the claims, amount claimed and gas spends for each of the categories above.  Most of the value claimed is claimed at less than 1% loss due to gas fees - this is the group of users with large deposits in yveCRV earning large rewards.  It's interesting that the highest gas expenditure overall came from the negative return group, again suggesting a lack of understanding of gas pricing & transaction pricing mechanisms."
      ]
    },
    {
      "cell_type": "code",
      "metadata": {
        "colab": {
          "base_uri": "https://localhost:8080/",
          "height": 297
        },
        "id": "ksqn2O-nO5u2",
        "outputId": "a7f33f49-77cb-48f6-ec13-cfd1fa24ada9"
      },
      "source": [
        "#hide_input\n",
        "%R summary_table"
      ],
      "execution_count": 25,
      "outputs": [
        {
          "output_type": "execute_result",
          "data": {
            "text/html": [
              "<div>\n",
              "<style scoped>\n",
              "    .dataframe tbody tr th:only-of-type {\n",
              "        vertical-align: middle;\n",
              "    }\n",
              "\n",
              "    .dataframe tbody tr th {\n",
              "        vertical-align: top;\n",
              "    }\n",
              "\n",
              "    .dataframe thead th {\n",
              "        text-align: right;\n",
              "    }\n",
              "</style>\n",
              "<table border=\"1\" class=\"dataframe\">\n",
              "  <thead>\n",
              "    <tr style=\"text-align: right;\">\n",
              "      <th></th>\n",
              "      <th>Claim Lost to Gas</th>\n",
              "      <th>Number of Claims</th>\n",
              "      <th>Amount Claimed (USD)</th>\n",
              "      <th>Gas Spent (USD)</th>\n",
              "      <th>Gas Spent (ETH)</th>\n",
              "    </tr>\n",
              "  </thead>\n",
              "  <tbody>\n",
              "    <tr>\n",
              "      <th>1</th>\n",
              "      <td>Negative Return</td>\n",
              "      <td>200</td>\n",
              "      <td>566.0</td>\n",
              "      <td>3446.0</td>\n",
              "      <td>1.80</td>\n",
              "    </tr>\n",
              "    <tr>\n",
              "      <th>2</th>\n",
              "      <td>50-100% Loss</td>\n",
              "      <td>76</td>\n",
              "      <td>1727.0</td>\n",
              "      <td>1198.0</td>\n",
              "      <td>0.54</td>\n",
              "    </tr>\n",
              "    <tr>\n",
              "      <th>3</th>\n",
              "      <td>20-50% Loss</td>\n",
              "      <td>119</td>\n",
              "      <td>4791.0</td>\n",
              "      <td>1480.0</td>\n",
              "      <td>0.78</td>\n",
              "    </tr>\n",
              "    <tr>\n",
              "      <th>4</th>\n",
              "      <td>10-20% Loss</td>\n",
              "      <td>131</td>\n",
              "      <td>13409.0</td>\n",
              "      <td>1832.0</td>\n",
              "      <td>0.81</td>\n",
              "    </tr>\n",
              "    <tr>\n",
              "      <th>5</th>\n",
              "      <td>5-10% Loss</td>\n",
              "      <td>129</td>\n",
              "      <td>23938.0</td>\n",
              "      <td>1673.0</td>\n",
              "      <td>0.87</td>\n",
              "    </tr>\n",
              "    <tr>\n",
              "      <th>6</th>\n",
              "      <td>1-5% Loss</td>\n",
              "      <td>270</td>\n",
              "      <td>140589.0</td>\n",
              "      <td>3185.0</td>\n",
              "      <td>1.58</td>\n",
              "    </tr>\n",
              "    <tr>\n",
              "      <th>7</th>\n",
              "      <td>&lt; 1% Loss</td>\n",
              "      <td>193</td>\n",
              "      <td>1987517.0</td>\n",
              "      <td>3846.0</td>\n",
              "      <td>1.69</td>\n",
              "    </tr>\n",
              "    <tr>\n",
              "      <th>8</th>\n",
              "      <td>Total</td>\n",
              "      <td>1118</td>\n",
              "      <td>2172537.0</td>\n",
              "      <td>16660.0</td>\n",
              "      <td>8.07</td>\n",
              "    </tr>\n",
              "  </tbody>\n",
              "</table>\n",
              "</div>"
            ],
            "text/plain": [
              "  Claim Lost to Gas  Number of Claims  ...  Gas Spent (USD)  Gas Spent (ETH)\n",
              "1   Negative Return               200  ...           3446.0             1.80\n",
              "2      50-100% Loss                76  ...           1198.0             0.54\n",
              "3       20-50% Loss               119  ...           1480.0             0.78\n",
              "4       10-20% Loss               131  ...           1832.0             0.81\n",
              "5        5-10% Loss               129  ...           1673.0             0.87\n",
              "6         1-5% Loss               270  ...           3185.0             1.58\n",
              "7         < 1% Loss               193  ...           3846.0             1.69\n",
              "8             Total              1118  ...          16660.0             8.07\n",
              "\n",
              "[8 rows x 5 columns]"
            ]
          },
          "metadata": {},
          "execution_count": 25
        }
      ]
    },
    {
      "cell_type": "markdown",
      "metadata": {
        "id": "q0_xA0gePlDT"
      },
      "source": [
        "# Conclusions\n",
        "\n",
        "The yveCRV vault is a special one in the Yearn galaxy - it's the only yVault that doesn't support withdrawals so rewards must be claimed manually.  We have seen that the claim process is not effective for all users.  Only 70% of the historical vault rewards have been claimed.  Many users have made claims for rewards with a negative return due to gas costs, and many make claims that lose a large portion of their reward to gas.  Thankfully the Yearn team have addressed this with the yvBoost vault, where users get the same underlying exposure to CRV locking but the reward process is automated.  Since the launch of yvBoost, we have seen the number of weekly reward claims drop significantly, indicating that users have migrated away from the yveCRV by trading their tokens on the open market.\n",
        "\n",
        "- All on-chain data sourced from the curated tables at [Flipside Crypto](https://flipsidecrypto.com)\n",
        "- Pricing data sourced from [Coingecko](https://coingecko.com)"
      ]
    }
  ]
}